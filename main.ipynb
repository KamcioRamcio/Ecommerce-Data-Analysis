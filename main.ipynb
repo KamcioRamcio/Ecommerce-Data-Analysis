{
 "cells": [
  {
   "cell_type": "code",
   "id": "initial_id",
   "metadata": {
    "collapsed": true,
    "ExecuteTime": {
     "end_time": "2025-02-17T12:59:10.940022Z",
     "start_time": "2025-02-17T12:59:10.784902Z"
    }
   },
   "source": [
    "from google.cloud import bigquery\n",
    "import pandas as pd\n",
    "from scipy.cluster.vq import kmeans"
   ],
   "outputs": [],
   "execution_count": 1
  },
  {
   "metadata": {
    "ExecuteTime": {
     "end_time": "2025-02-17T12:59:10.948949Z",
     "start_time": "2025-02-17T12:59:10.946750Z"
    }
   },
   "cell_type": "code",
   "source": "pd.set_option('max_info_columns', 200)\n",
   "id": "634377c5d944bd07",
   "outputs": [],
   "execution_count": 2
  },
  {
   "metadata": {
    "ExecuteTime": {
     "end_time": "2025-02-17T12:59:11.797015Z",
     "start_time": "2025-02-17T12:59:11.020507Z"
    }
   },
   "cell_type": "code",
   "source": "client = bigquery.Client()",
   "id": "c2415b476f3875f3",
   "outputs": [],
   "execution_count": 3
  },
  {
   "metadata": {
    "ExecuteTime": {
     "end_time": "2025-02-17T12:59:11.804349Z",
     "start_time": "2025-02-17T12:59:11.802728Z"
    }
   },
   "cell_type": "code",
   "source": [
    "orders_query = \"\"\"\n",
    "SELECT\n",
    "    order_id,\n",
    "    user_id,\n",
    "    status,\n",
    "    gender,\n",
    "    created_at AS order_date,\n",
    "    num_of_item\n",
    "FROM `bigquery-public-data.thelook_ecommerce.orders`\n",
    "ORDER BY order_id\n",
    "\"\"\""
   ],
   "id": "2e4ab3e4cfdd6476",
   "outputs": [],
   "execution_count": 4
  },
  {
   "metadata": {
    "ExecuteTime": {
     "end_time": "2025-02-17T12:59:11.848362Z",
     "start_time": "2025-02-17T12:59:11.846515Z"
    }
   },
   "cell_type": "code",
   "source": [
    "order_item_query = \"\"\"\n",
    "SELECT\n",
    "    order_id,\n",
    "    user_id,\n",
    "    product_id,\n",
    "    inventory_item_id,\n",
    "    sale_price\n",
    "FROM `bigquery-public-data.thelook_ecommerce.order_items`\n",
    "ORDER BY order_id\n",
    "\"\"\""
   ],
   "id": "bbe55ae2c7e84043",
   "outputs": [],
   "execution_count": 5
  },
  {
   "metadata": {
    "ExecuteTime": {
     "end_time": "2025-02-17T12:59:11.899506Z",
     "start_time": "2025-02-17T12:59:11.897732Z"
    }
   },
   "cell_type": "code",
   "source": [
    "inventory_items_query = \"\"\"\n",
    "SELECT DISTINCT\n",
    "    product_id,\n",
    "    cost,\n",
    "    product_category,\n",
    "    product_name,\n",
    "    product_retail_price,\n",
    "    product_department\n",
    "FROM `bigquery-public-data.thelook_ecommerce.inventory_items`\n",
    "\"\"\""
   ],
   "id": "9bdc3b65331a50f",
   "outputs": [],
   "execution_count": 6
  },
  {
   "metadata": {
    "ExecuteTime": {
     "end_time": "2025-02-17T12:59:25.285982Z",
     "start_time": "2025-02-17T12:59:11.943295Z"
    }
   },
   "cell_type": "code",
   "source": "df_order = client.query(orders_query).to_dataframe()",
   "id": "440c890493dd4067",
   "outputs": [
    {
     "name": "stderr",
     "output_type": "stream",
     "text": [
      "/home/kamcio/Coding/Python/Churn/.venv/lib/python3.11/site-packages/google/cloud/bigquery/table.py:1820: UserWarning: BigQuery Storage module not found, fetch data with the REST endpoint instead.\n",
      "  warnings.warn(\n"
     ]
    }
   ],
   "execution_count": 7
  },
  {
   "metadata": {
    "ExecuteTime": {
     "end_time": "2025-02-17T12:59:42.759230Z",
     "start_time": "2025-02-17T12:59:25.292709Z"
    }
   },
   "cell_type": "code",
   "source": "df_order_item = client.query(order_item_query).to_dataframe()",
   "id": "d652c15417cd8e60",
   "outputs": [
    {
     "name": "stderr",
     "output_type": "stream",
     "text": [
      "/home/kamcio/Coding/Python/Churn/.venv/lib/python3.11/site-packages/google/cloud/bigquery/table.py:1820: UserWarning: BigQuery Storage module not found, fetch data with the REST endpoint instead.\n",
      "  warnings.warn(\n"
     ]
    }
   ],
   "execution_count": 8
  },
  {
   "metadata": {
    "ExecuteTime": {
     "end_time": "2025-02-17T12:59:50.095433Z",
     "start_time": "2025-02-17T12:59:42.811488Z"
    }
   },
   "cell_type": "code",
   "source": "df_inventory_items = client.query(inventory_items_query).to_dataframe()",
   "id": "6aa1245ce5f44967",
   "outputs": [
    {
     "name": "stderr",
     "output_type": "stream",
     "text": [
      "/home/kamcio/Coding/Python/Churn/.venv/lib/python3.11/site-packages/google/cloud/bigquery/table.py:1820: UserWarning: BigQuery Storage module not found, fetch data with the REST endpoint instead.\n",
      "  warnings.warn(\n"
     ]
    }
   ],
   "execution_count": 9
  },
  {
   "metadata": {
    "ExecuteTime": {
     "end_time": "2025-02-17T12:59:50.113485Z",
     "start_time": "2025-02-17T12:59:50.102441Z"
    }
   },
   "cell_type": "code",
   "source": [
    "inventory_df = df_inventory_items.copy()\n",
    "inventory_df.info()"
   ],
   "id": "e5e52127f222938c",
   "outputs": [
    {
     "name": "stdout",
     "output_type": "stream",
     "text": [
      "<class 'pandas.core.frame.DataFrame'>\n",
      "RangeIndex: 29054 entries, 0 to 29053\n",
      "Data columns (total 6 columns):\n",
      " #   Column                Non-Null Count  Dtype  \n",
      "---  ------                --------------  -----  \n",
      " 0   product_id            29054 non-null  Int64  \n",
      " 1   cost                  29054 non-null  float64\n",
      " 2   product_category      29054 non-null  object \n",
      " 3   product_name          29054 non-null  object \n",
      " 4   product_retail_price  29054 non-null  float64\n",
      " 5   product_department    29054 non-null  object \n",
      "dtypes: Int64(1), float64(2), object(3)\n",
      "memory usage: 1.4+ MB\n"
     ]
    }
   ],
   "execution_count": 10
  },
  {
   "metadata": {
    "ExecuteTime": {
     "end_time": "2025-02-17T12:59:50.160041Z",
     "start_time": "2025-02-17T12:59:50.149162Z"
    }
   },
   "cell_type": "code",
   "source": [
    "orders_df = df_order.copy()\n",
    "orders_df.info()"
   ],
   "id": "e8c83b3e5262ac91",
   "outputs": [
    {
     "name": "stdout",
     "output_type": "stream",
     "text": [
      "<class 'pandas.core.frame.DataFrame'>\n",
      "RangeIndex: 125084 entries, 0 to 125083\n",
      "Data columns (total 6 columns):\n",
      " #   Column       Non-Null Count   Dtype              \n",
      "---  ------       --------------   -----              \n",
      " 0   order_id     125084 non-null  Int64              \n",
      " 1   user_id      125084 non-null  Int64              \n",
      " 2   status       125084 non-null  object             \n",
      " 3   gender       125084 non-null  object             \n",
      " 4   order_date   125084 non-null  datetime64[us, UTC]\n",
      " 5   num_of_item  125084 non-null  Int64              \n",
      "dtypes: Int64(3), datetime64[us, UTC](1), object(2)\n",
      "memory usage: 6.1+ MB\n"
     ]
    }
   ],
   "execution_count": 11
  },
  {
   "metadata": {
    "ExecuteTime": {
     "end_time": "2025-02-17T12:59:50.202748Z",
     "start_time": "2025-02-17T12:59:50.195966Z"
    }
   },
   "cell_type": "code",
   "source": [
    "order_item_df = df_order_item.copy()\n",
    "order_item_df.info()"
   ],
   "id": "d3f11b33a8c10b7f",
   "outputs": [
    {
     "name": "stdout",
     "output_type": "stream",
     "text": [
      "<class 'pandas.core.frame.DataFrame'>\n",
      "RangeIndex: 181446 entries, 0 to 181445\n",
      "Data columns (total 5 columns):\n",
      " #   Column             Non-Null Count   Dtype  \n",
      "---  ------             --------------   -----  \n",
      " 0   order_id           181446 non-null  Int64  \n",
      " 1   user_id            181446 non-null  Int64  \n",
      " 2   product_id         181446 non-null  Int64  \n",
      " 3   inventory_item_id  181446 non-null  Int64  \n",
      " 4   sale_price         181446 non-null  float64\n",
      "dtypes: Int64(4), float64(1)\n",
      "memory usage: 7.6 MB\n"
     ]
    }
   ],
   "execution_count": 12
  },
  {
   "metadata": {
    "ExecuteTime": {
     "end_time": "2025-02-17T12:59:50.252776Z",
     "start_time": "2025-02-17T12:59:50.245181Z"
    }
   },
   "cell_type": "code",
   "source": "orders_df.head()",
   "id": "a963b287991a104c",
   "outputs": [
    {
     "data": {
      "text/plain": [
       "   order_id  user_id      status gender                order_date  num_of_item\n",
       "0         1        1     Shipped      F 2022-04-30 09:37:00+00:00            2\n",
       "1         2        2    Complete      F 2024-07-16 14:52:00+00:00            2\n",
       "2         3        4  Processing      F 2023-11-26 12:03:00+00:00            1\n",
       "3         4        5  Processing      F 2024-12-30 06:04:00+00:00            1\n",
       "4         5        5  Processing      F 2025-01-28 06:04:00+00:00            4"
      ],
      "text/html": [
       "<div>\n",
       "<style scoped>\n",
       "    .dataframe tbody tr th:only-of-type {\n",
       "        vertical-align: middle;\n",
       "    }\n",
       "\n",
       "    .dataframe tbody tr th {\n",
       "        vertical-align: top;\n",
       "    }\n",
       "\n",
       "    .dataframe thead th {\n",
       "        text-align: right;\n",
       "    }\n",
       "</style>\n",
       "<table border=\"1\" class=\"dataframe\">\n",
       "  <thead>\n",
       "    <tr style=\"text-align: right;\">\n",
       "      <th></th>\n",
       "      <th>order_id</th>\n",
       "      <th>user_id</th>\n",
       "      <th>status</th>\n",
       "      <th>gender</th>\n",
       "      <th>order_date</th>\n",
       "      <th>num_of_item</th>\n",
       "    </tr>\n",
       "  </thead>\n",
       "  <tbody>\n",
       "    <tr>\n",
       "      <th>0</th>\n",
       "      <td>1</td>\n",
       "      <td>1</td>\n",
       "      <td>Shipped</td>\n",
       "      <td>F</td>\n",
       "      <td>2022-04-30 09:37:00+00:00</td>\n",
       "      <td>2</td>\n",
       "    </tr>\n",
       "    <tr>\n",
       "      <th>1</th>\n",
       "      <td>2</td>\n",
       "      <td>2</td>\n",
       "      <td>Complete</td>\n",
       "      <td>F</td>\n",
       "      <td>2024-07-16 14:52:00+00:00</td>\n",
       "      <td>2</td>\n",
       "    </tr>\n",
       "    <tr>\n",
       "      <th>2</th>\n",
       "      <td>3</td>\n",
       "      <td>4</td>\n",
       "      <td>Processing</td>\n",
       "      <td>F</td>\n",
       "      <td>2023-11-26 12:03:00+00:00</td>\n",
       "      <td>1</td>\n",
       "    </tr>\n",
       "    <tr>\n",
       "      <th>3</th>\n",
       "      <td>4</td>\n",
       "      <td>5</td>\n",
       "      <td>Processing</td>\n",
       "      <td>F</td>\n",
       "      <td>2024-12-30 06:04:00+00:00</td>\n",
       "      <td>1</td>\n",
       "    </tr>\n",
       "    <tr>\n",
       "      <th>4</th>\n",
       "      <td>5</td>\n",
       "      <td>5</td>\n",
       "      <td>Processing</td>\n",
       "      <td>F</td>\n",
       "      <td>2025-01-28 06:04:00+00:00</td>\n",
       "      <td>4</td>\n",
       "    </tr>\n",
       "  </tbody>\n",
       "</table>\n",
       "</div>"
      ]
     },
     "execution_count": 13,
     "metadata": {},
     "output_type": "execute_result"
    }
   ],
   "execution_count": 13
  },
  {
   "metadata": {
    "ExecuteTime": {
     "end_time": "2025-02-17T12:59:50.311081Z",
     "start_time": "2025-02-17T12:59:50.306549Z"
    }
   },
   "cell_type": "code",
   "source": "order_item_df.head()",
   "id": "b8407415b979a81d",
   "outputs": [
    {
     "data": {
      "text/plain": [
       "   order_id  user_id  product_id  inventory_item_id  sale_price\n",
       "0         1        1       15649                  3   14.970000\n",
       "1         1        1          98                  5   39.990002\n",
       "2         2        2       13449                  7   25.000000\n",
       "3         2        2        8212                 10   98.080002\n",
       "4         3        4        1230                 12  110.000000"
      ],
      "text/html": [
       "<div>\n",
       "<style scoped>\n",
       "    .dataframe tbody tr th:only-of-type {\n",
       "        vertical-align: middle;\n",
       "    }\n",
       "\n",
       "    .dataframe tbody tr th {\n",
       "        vertical-align: top;\n",
       "    }\n",
       "\n",
       "    .dataframe thead th {\n",
       "        text-align: right;\n",
       "    }\n",
       "</style>\n",
       "<table border=\"1\" class=\"dataframe\">\n",
       "  <thead>\n",
       "    <tr style=\"text-align: right;\">\n",
       "      <th></th>\n",
       "      <th>order_id</th>\n",
       "      <th>user_id</th>\n",
       "      <th>product_id</th>\n",
       "      <th>inventory_item_id</th>\n",
       "      <th>sale_price</th>\n",
       "    </tr>\n",
       "  </thead>\n",
       "  <tbody>\n",
       "    <tr>\n",
       "      <th>0</th>\n",
       "      <td>1</td>\n",
       "      <td>1</td>\n",
       "      <td>15649</td>\n",
       "      <td>3</td>\n",
       "      <td>14.970000</td>\n",
       "    </tr>\n",
       "    <tr>\n",
       "      <th>1</th>\n",
       "      <td>1</td>\n",
       "      <td>1</td>\n",
       "      <td>98</td>\n",
       "      <td>5</td>\n",
       "      <td>39.990002</td>\n",
       "    </tr>\n",
       "    <tr>\n",
       "      <th>2</th>\n",
       "      <td>2</td>\n",
       "      <td>2</td>\n",
       "      <td>13449</td>\n",
       "      <td>7</td>\n",
       "      <td>25.000000</td>\n",
       "    </tr>\n",
       "    <tr>\n",
       "      <th>3</th>\n",
       "      <td>2</td>\n",
       "      <td>2</td>\n",
       "      <td>8212</td>\n",
       "      <td>10</td>\n",
       "      <td>98.080002</td>\n",
       "    </tr>\n",
       "    <tr>\n",
       "      <th>4</th>\n",
       "      <td>3</td>\n",
       "      <td>4</td>\n",
       "      <td>1230</td>\n",
       "      <td>12</td>\n",
       "      <td>110.000000</td>\n",
       "    </tr>\n",
       "  </tbody>\n",
       "</table>\n",
       "</div>"
      ]
     },
     "execution_count": 14,
     "metadata": {},
     "output_type": "execute_result"
    }
   ],
   "execution_count": 14
  },
  {
   "metadata": {
    "ExecuteTime": {
     "end_time": "2025-02-17T12:59:50.385032Z",
     "start_time": "2025-02-17T12:59:50.356577Z"
    }
   },
   "cell_type": "code",
   "source": "merged_orders_df = pd.merge(orders_df, order_item_df, on=['order_id', 'user_id'])",
   "id": "5b062d4eb7ce48d9",
   "outputs": [],
   "execution_count": 15
  },
  {
   "metadata": {
    "ExecuteTime": {
     "end_time": "2025-02-17T12:59:50.459054Z",
     "start_time": "2025-02-17T12:59:50.446145Z"
    }
   },
   "cell_type": "code",
   "source": "merged_orders_df.info()",
   "id": "78a526f8addc6f37",
   "outputs": [
    {
     "name": "stdout",
     "output_type": "stream",
     "text": [
      "<class 'pandas.core.frame.DataFrame'>\n",
      "RangeIndex: 181446 entries, 0 to 181445\n",
      "Data columns (total 9 columns):\n",
      " #   Column             Non-Null Count   Dtype              \n",
      "---  ------             --------------   -----              \n",
      " 0   order_id           181446 non-null  Int64              \n",
      " 1   user_id            181446 non-null  Int64              \n",
      " 2   status             181446 non-null  object             \n",
      " 3   gender             181446 non-null  object             \n",
      " 4   order_date         181446 non-null  datetime64[us, UTC]\n",
      " 5   num_of_item        181446 non-null  Int64              \n",
      " 6   product_id         181446 non-null  Int64              \n",
      " 7   inventory_item_id  181446 non-null  Int64              \n",
      " 8   sale_price         181446 non-null  float64            \n",
      "dtypes: Int64(5), datetime64[us, UTC](1), float64(1), object(2)\n",
      "memory usage: 13.3+ MB\n"
     ]
    }
   ],
   "execution_count": 16
  },
  {
   "metadata": {
    "ExecuteTime": {
     "end_time": "2025-02-17T12:59:50.535747Z",
     "start_time": "2025-02-17T12:59:50.531199Z"
    }
   },
   "cell_type": "code",
   "source": "merged_orders_df.head()",
   "id": "991665c93e03a6a3",
   "outputs": [
    {
     "data": {
      "text/plain": [
       "   order_id  user_id      status gender                order_date  \\\n",
       "0         1        1     Shipped      F 2022-04-30 09:37:00+00:00   \n",
       "1         1        1     Shipped      F 2022-04-30 09:37:00+00:00   \n",
       "2         2        2    Complete      F 2024-07-16 14:52:00+00:00   \n",
       "3         2        2    Complete      F 2024-07-16 14:52:00+00:00   \n",
       "4         3        4  Processing      F 2023-11-26 12:03:00+00:00   \n",
       "\n",
       "   num_of_item  product_id  inventory_item_id  sale_price  \n",
       "0            2       15649                  3   14.970000  \n",
       "1            2          98                  5   39.990002  \n",
       "2            2       13449                  7   25.000000  \n",
       "3            2        8212                 10   98.080002  \n",
       "4            1        1230                 12  110.000000  "
      ],
      "text/html": [
       "<div>\n",
       "<style scoped>\n",
       "    .dataframe tbody tr th:only-of-type {\n",
       "        vertical-align: middle;\n",
       "    }\n",
       "\n",
       "    .dataframe tbody tr th {\n",
       "        vertical-align: top;\n",
       "    }\n",
       "\n",
       "    .dataframe thead th {\n",
       "        text-align: right;\n",
       "    }\n",
       "</style>\n",
       "<table border=\"1\" class=\"dataframe\">\n",
       "  <thead>\n",
       "    <tr style=\"text-align: right;\">\n",
       "      <th></th>\n",
       "      <th>order_id</th>\n",
       "      <th>user_id</th>\n",
       "      <th>status</th>\n",
       "      <th>gender</th>\n",
       "      <th>order_date</th>\n",
       "      <th>num_of_item</th>\n",
       "      <th>product_id</th>\n",
       "      <th>inventory_item_id</th>\n",
       "      <th>sale_price</th>\n",
       "    </tr>\n",
       "  </thead>\n",
       "  <tbody>\n",
       "    <tr>\n",
       "      <th>0</th>\n",
       "      <td>1</td>\n",
       "      <td>1</td>\n",
       "      <td>Shipped</td>\n",
       "      <td>F</td>\n",
       "      <td>2022-04-30 09:37:00+00:00</td>\n",
       "      <td>2</td>\n",
       "      <td>15649</td>\n",
       "      <td>3</td>\n",
       "      <td>14.970000</td>\n",
       "    </tr>\n",
       "    <tr>\n",
       "      <th>1</th>\n",
       "      <td>1</td>\n",
       "      <td>1</td>\n",
       "      <td>Shipped</td>\n",
       "      <td>F</td>\n",
       "      <td>2022-04-30 09:37:00+00:00</td>\n",
       "      <td>2</td>\n",
       "      <td>98</td>\n",
       "      <td>5</td>\n",
       "      <td>39.990002</td>\n",
       "    </tr>\n",
       "    <tr>\n",
       "      <th>2</th>\n",
       "      <td>2</td>\n",
       "      <td>2</td>\n",
       "      <td>Complete</td>\n",
       "      <td>F</td>\n",
       "      <td>2024-07-16 14:52:00+00:00</td>\n",
       "      <td>2</td>\n",
       "      <td>13449</td>\n",
       "      <td>7</td>\n",
       "      <td>25.000000</td>\n",
       "    </tr>\n",
       "    <tr>\n",
       "      <th>3</th>\n",
       "      <td>2</td>\n",
       "      <td>2</td>\n",
       "      <td>Complete</td>\n",
       "      <td>F</td>\n",
       "      <td>2024-07-16 14:52:00+00:00</td>\n",
       "      <td>2</td>\n",
       "      <td>8212</td>\n",
       "      <td>10</td>\n",
       "      <td>98.080002</td>\n",
       "    </tr>\n",
       "    <tr>\n",
       "      <th>4</th>\n",
       "      <td>3</td>\n",
       "      <td>4</td>\n",
       "      <td>Processing</td>\n",
       "      <td>F</td>\n",
       "      <td>2023-11-26 12:03:00+00:00</td>\n",
       "      <td>1</td>\n",
       "      <td>1230</td>\n",
       "      <td>12</td>\n",
       "      <td>110.000000</td>\n",
       "    </tr>\n",
       "  </tbody>\n",
       "</table>\n",
       "</div>"
      ]
     },
     "execution_count": 17,
     "metadata": {},
     "output_type": "execute_result"
    }
   ],
   "execution_count": 17
  },
  {
   "metadata": {
    "ExecuteTime": {
     "end_time": "2025-02-17T12:59:50.597136Z",
     "start_time": "2025-02-17T12:59:50.576520Z"
    }
   },
   "cell_type": "code",
   "source": "merged_orders_inventory = pd.merge(merged_orders_df, inventory_df, on=['product_id'])",
   "id": "c3fb45f87a868f16",
   "outputs": [],
   "execution_count": 18
  },
  {
   "metadata": {
    "ExecuteTime": {
     "end_time": "2025-02-17T12:59:50.672547Z",
     "start_time": "2025-02-17T12:59:50.660146Z"
    }
   },
   "cell_type": "code",
   "source": "merged_orders_inventory['order_date'] = pd.to_datetime(merged_orders_inventory['order_date'], errors='coerce')",
   "id": "a34eb55125687008",
   "outputs": [],
   "execution_count": 19
  },
  {
   "metadata": {
    "ExecuteTime": {
     "end_time": "2025-02-17T12:59:50.731026Z",
     "start_time": "2025-02-17T12:59:50.723378Z"
    }
   },
   "cell_type": "code",
   "source": "merged_orders_inventory",
   "id": "2d5edfa0488ad63e",
   "outputs": [
    {
     "data": {
      "text/plain": [
       "        order_id  user_id      status gender                order_date  \\\n",
       "0              1        1     Shipped      F 2022-04-30 09:37:00+00:00   \n",
       "1              1        1     Shipped      F 2022-04-30 09:37:00+00:00   \n",
       "2              2        2    Complete      F 2024-07-16 14:52:00+00:00   \n",
       "3              2        2    Complete      F 2024-07-16 14:52:00+00:00   \n",
       "4              3        4  Processing      F 2023-11-26 12:03:00+00:00   \n",
       "...          ...      ...         ...    ...                       ...   \n",
       "181441    125080    99996     Shipped      F 2024-10-07 11:16:00+00:00   \n",
       "181442    125081    99996     Shipped      F 2025-01-24 11:16:00+00:00   \n",
       "181443    125082    99999   Cancelled      M 2022-07-07 09:46:00+00:00   \n",
       "181444    125083    99999   Cancelled      M 2023-10-10 09:46:00+00:00   \n",
       "181445    125084   100000     Shipped      M 2021-04-13 06:44:00+00:00   \n",
       "\n",
       "        num_of_item  product_id  inventory_item_id  sale_price       cost  \\\n",
       "0                 2       15649                  3   14.970000   7.485000   \n",
       "1                 2          98                  5   39.990002  21.714571   \n",
       "2                 2       13449                  7   25.000000  10.025000   \n",
       "3                 2        8212                 10   98.080002  59.142241   \n",
       "4                 1        1230                 12  110.000000  51.370000   \n",
       "...             ...         ...                ...         ...        ...   \n",
       "181441            1        6974             489945   69.989998  32.615339   \n",
       "181442            1        3402             489947   37.990002  16.259721   \n",
       "181443            1       24747             489949   31.990000  20.697530   \n",
       "181444            1       20711             489953  146.059998  71.569399   \n",
       "181445            1       25694             489955   39.990002  17.995501   \n",
       "\n",
       "       product_category                                       product_name  \\\n",
       "0                  Plus  Collections Etc - Button Front Argyle V-Neck C...   \n",
       "1           Tops & Tees  Patty Women Cowl Neck Button Embellished Ruche...   \n",
       "2                  Swim  Body Glove Juniors Smoothies Skirt Rider Swim ...   \n",
       "3                 Suits                Evan Picone English Rose Skirt Suit   \n",
       "4              Sweaters  Christopher Fischer Women's 100% Cashmere Long...   \n",
       "...                 ...                                                ...   \n",
       "181441           Shorts  True Religion Brand Jeans Womens Corgo Shorts ...   \n",
       "181442          Dresses  Short Sleeve Cowl Neck Fitted Warm Winter Plai...   \n",
       "181443            Socks  Diamond Supply Co HI OG 2 Stripe Socks 3pk - M...   \n",
       "181444            Jeans  7 For All Mankind Men's Slimmy Slim Straight L...   \n",
       "181445        Underwear                      Pull-In Men's Fashion Missing   \n",
       "\n",
       "        product_retail_price product_department  \n",
       "0                  14.970000              Women  \n",
       "1                  39.990002              Women  \n",
       "2                  25.000000              Women  \n",
       "3                  98.080002              Women  \n",
       "4                 110.000000              Women  \n",
       "...                      ...                ...  \n",
       "181441             69.989998              Women  \n",
       "181442             37.990002              Women  \n",
       "181443             31.990000                Men  \n",
       "181444            146.059998                Men  \n",
       "181445             39.990002                Men  \n",
       "\n",
       "[181446 rows x 14 columns]"
      ],
      "text/html": [
       "<div>\n",
       "<style scoped>\n",
       "    .dataframe tbody tr th:only-of-type {\n",
       "        vertical-align: middle;\n",
       "    }\n",
       "\n",
       "    .dataframe tbody tr th {\n",
       "        vertical-align: top;\n",
       "    }\n",
       "\n",
       "    .dataframe thead th {\n",
       "        text-align: right;\n",
       "    }\n",
       "</style>\n",
       "<table border=\"1\" class=\"dataframe\">\n",
       "  <thead>\n",
       "    <tr style=\"text-align: right;\">\n",
       "      <th></th>\n",
       "      <th>order_id</th>\n",
       "      <th>user_id</th>\n",
       "      <th>status</th>\n",
       "      <th>gender</th>\n",
       "      <th>order_date</th>\n",
       "      <th>num_of_item</th>\n",
       "      <th>product_id</th>\n",
       "      <th>inventory_item_id</th>\n",
       "      <th>sale_price</th>\n",
       "      <th>cost</th>\n",
       "      <th>product_category</th>\n",
       "      <th>product_name</th>\n",
       "      <th>product_retail_price</th>\n",
       "      <th>product_department</th>\n",
       "    </tr>\n",
       "  </thead>\n",
       "  <tbody>\n",
       "    <tr>\n",
       "      <th>0</th>\n",
       "      <td>1</td>\n",
       "      <td>1</td>\n",
       "      <td>Shipped</td>\n",
       "      <td>F</td>\n",
       "      <td>2022-04-30 09:37:00+00:00</td>\n",
       "      <td>2</td>\n",
       "      <td>15649</td>\n",
       "      <td>3</td>\n",
       "      <td>14.970000</td>\n",
       "      <td>7.485000</td>\n",
       "      <td>Plus</td>\n",
       "      <td>Collections Etc - Button Front Argyle V-Neck C...</td>\n",
       "      <td>14.970000</td>\n",
       "      <td>Women</td>\n",
       "    </tr>\n",
       "    <tr>\n",
       "      <th>1</th>\n",
       "      <td>1</td>\n",
       "      <td>1</td>\n",
       "      <td>Shipped</td>\n",
       "      <td>F</td>\n",
       "      <td>2022-04-30 09:37:00+00:00</td>\n",
       "      <td>2</td>\n",
       "      <td>98</td>\n",
       "      <td>5</td>\n",
       "      <td>39.990002</td>\n",
       "      <td>21.714571</td>\n",
       "      <td>Tops &amp; Tees</td>\n",
       "      <td>Patty Women Cowl Neck Button Embellished Ruche...</td>\n",
       "      <td>39.990002</td>\n",
       "      <td>Women</td>\n",
       "    </tr>\n",
       "    <tr>\n",
       "      <th>2</th>\n",
       "      <td>2</td>\n",
       "      <td>2</td>\n",
       "      <td>Complete</td>\n",
       "      <td>F</td>\n",
       "      <td>2024-07-16 14:52:00+00:00</td>\n",
       "      <td>2</td>\n",
       "      <td>13449</td>\n",
       "      <td>7</td>\n",
       "      <td>25.000000</td>\n",
       "      <td>10.025000</td>\n",
       "      <td>Swim</td>\n",
       "      <td>Body Glove Juniors Smoothies Skirt Rider Swim ...</td>\n",
       "      <td>25.000000</td>\n",
       "      <td>Women</td>\n",
       "    </tr>\n",
       "    <tr>\n",
       "      <th>3</th>\n",
       "      <td>2</td>\n",
       "      <td>2</td>\n",
       "      <td>Complete</td>\n",
       "      <td>F</td>\n",
       "      <td>2024-07-16 14:52:00+00:00</td>\n",
       "      <td>2</td>\n",
       "      <td>8212</td>\n",
       "      <td>10</td>\n",
       "      <td>98.080002</td>\n",
       "      <td>59.142241</td>\n",
       "      <td>Suits</td>\n",
       "      <td>Evan Picone English Rose Skirt Suit</td>\n",
       "      <td>98.080002</td>\n",
       "      <td>Women</td>\n",
       "    </tr>\n",
       "    <tr>\n",
       "      <th>4</th>\n",
       "      <td>3</td>\n",
       "      <td>4</td>\n",
       "      <td>Processing</td>\n",
       "      <td>F</td>\n",
       "      <td>2023-11-26 12:03:00+00:00</td>\n",
       "      <td>1</td>\n",
       "      <td>1230</td>\n",
       "      <td>12</td>\n",
       "      <td>110.000000</td>\n",
       "      <td>51.370000</td>\n",
       "      <td>Sweaters</td>\n",
       "      <td>Christopher Fischer Women's 100% Cashmere Long...</td>\n",
       "      <td>110.000000</td>\n",
       "      <td>Women</td>\n",
       "    </tr>\n",
       "    <tr>\n",
       "      <th>...</th>\n",
       "      <td>...</td>\n",
       "      <td>...</td>\n",
       "      <td>...</td>\n",
       "      <td>...</td>\n",
       "      <td>...</td>\n",
       "      <td>...</td>\n",
       "      <td>...</td>\n",
       "      <td>...</td>\n",
       "      <td>...</td>\n",
       "      <td>...</td>\n",
       "      <td>...</td>\n",
       "      <td>...</td>\n",
       "      <td>...</td>\n",
       "      <td>...</td>\n",
       "    </tr>\n",
       "    <tr>\n",
       "      <th>181441</th>\n",
       "      <td>125080</td>\n",
       "      <td>99996</td>\n",
       "      <td>Shipped</td>\n",
       "      <td>F</td>\n",
       "      <td>2024-10-07 11:16:00+00:00</td>\n",
       "      <td>1</td>\n",
       "      <td>6974</td>\n",
       "      <td>489945</td>\n",
       "      <td>69.989998</td>\n",
       "      <td>32.615339</td>\n",
       "      <td>Shorts</td>\n",
       "      <td>True Religion Brand Jeans Womens Corgo Shorts ...</td>\n",
       "      <td>69.989998</td>\n",
       "      <td>Women</td>\n",
       "    </tr>\n",
       "    <tr>\n",
       "      <th>181442</th>\n",
       "      <td>125081</td>\n",
       "      <td>99996</td>\n",
       "      <td>Shipped</td>\n",
       "      <td>F</td>\n",
       "      <td>2025-01-24 11:16:00+00:00</td>\n",
       "      <td>1</td>\n",
       "      <td>3402</td>\n",
       "      <td>489947</td>\n",
       "      <td>37.990002</td>\n",
       "      <td>16.259721</td>\n",
       "      <td>Dresses</td>\n",
       "      <td>Short Sleeve Cowl Neck Fitted Warm Winter Plai...</td>\n",
       "      <td>37.990002</td>\n",
       "      <td>Women</td>\n",
       "    </tr>\n",
       "    <tr>\n",
       "      <th>181443</th>\n",
       "      <td>125082</td>\n",
       "      <td>99999</td>\n",
       "      <td>Cancelled</td>\n",
       "      <td>M</td>\n",
       "      <td>2022-07-07 09:46:00+00:00</td>\n",
       "      <td>1</td>\n",
       "      <td>24747</td>\n",
       "      <td>489949</td>\n",
       "      <td>31.990000</td>\n",
       "      <td>20.697530</td>\n",
       "      <td>Socks</td>\n",
       "      <td>Diamond Supply Co HI OG 2 Stripe Socks 3pk - M...</td>\n",
       "      <td>31.990000</td>\n",
       "      <td>Men</td>\n",
       "    </tr>\n",
       "    <tr>\n",
       "      <th>181444</th>\n",
       "      <td>125083</td>\n",
       "      <td>99999</td>\n",
       "      <td>Cancelled</td>\n",
       "      <td>M</td>\n",
       "      <td>2023-10-10 09:46:00+00:00</td>\n",
       "      <td>1</td>\n",
       "      <td>20711</td>\n",
       "      <td>489953</td>\n",
       "      <td>146.059998</td>\n",
       "      <td>71.569399</td>\n",
       "      <td>Jeans</td>\n",
       "      <td>7 For All Mankind Men's Slimmy Slim Straight L...</td>\n",
       "      <td>146.059998</td>\n",
       "      <td>Men</td>\n",
       "    </tr>\n",
       "    <tr>\n",
       "      <th>181445</th>\n",
       "      <td>125084</td>\n",
       "      <td>100000</td>\n",
       "      <td>Shipped</td>\n",
       "      <td>M</td>\n",
       "      <td>2021-04-13 06:44:00+00:00</td>\n",
       "      <td>1</td>\n",
       "      <td>25694</td>\n",
       "      <td>489955</td>\n",
       "      <td>39.990002</td>\n",
       "      <td>17.995501</td>\n",
       "      <td>Underwear</td>\n",
       "      <td>Pull-In Men's Fashion Missing</td>\n",
       "      <td>39.990002</td>\n",
       "      <td>Men</td>\n",
       "    </tr>\n",
       "  </tbody>\n",
       "</table>\n",
       "<p>181446 rows × 14 columns</p>\n",
       "</div>"
      ]
     },
     "execution_count": 20,
     "metadata": {},
     "output_type": "execute_result"
    }
   ],
   "execution_count": 20
  },
  {
   "metadata": {
    "ExecuteTime": {
     "end_time": "2025-02-17T12:59:50.958407Z",
     "start_time": "2025-02-17T12:59:50.825296Z"
    }
   },
   "cell_type": "code",
   "source": [
    "import matplotlib.pyplot as plt\n",
    "import seaborn as sns\n",
    "\n",
    "plt.figure(figsize=(10,6))\n",
    "sns.histplot(merged_orders_inventory['cost'], bins=30)\n",
    "plt.title(\"Distribution of Cost\")\n",
    "plt.show()"
   ],
   "id": "2a6b2bab6ed4e156",
   "outputs": [
    {
     "data": {
      "text/plain": [
       "<Figure size 1000x600 with 1 Axes>"
      ],
      "image/png": "[encoded data removed]"
     },
     "metadata": {},
     "output_type": "display_data"
    }
   ],
   "execution_count": 21
  },
  {
   "metadata": {
    "ExecuteTime": {
     "end_time": "2025-02-17T12:59:51.124719Z",
     "start_time": "2025-02-17T12:59:51.027501Z"
    }
   },
   "cell_type": "code",
   "source": [
    "daily_sales = merged_orders_inventory.groupby(merged_orders_inventory['order_date'].dt.date)['cost'].sum()\n",
    "plt.figure(figsize=(12,6))\n",
    "daily_sales.plot()\n",
    "plt.title(\"Daily Sales Over Time\")\n",
    "plt.show()\n"
   ],
   "id": "ab8b9524791a5259",
   "outputs": [
    {
     "data": {
      "text/plain": [
       "<Figure size 1200x600 with 1 Axes>"
      ],
      "image/png": "[encoded data removed]"
     },
     "metadata": {},
     "output_type": "display_data"
    }
   ],
   "execution_count": 22
  },
  {
   "metadata": {
    "ExecuteTime": {
     "end_time": "2025-02-17T12:59:51.312664Z",
     "start_time": "2025-02-17T12:59:51.170716Z"
    }
   },
   "cell_type": "code",
   "source": [
    "merged_orders_inventory['product_category'].value_counts().plot(kind='bar', figsize=(10,6))\n",
    "plt.title(\"Product Category Distribution\")\n",
    "plt.show()"
   ],
   "id": "6bd0e0710ad23102",
   "outputs": [
    {
     "data": {
      "text/plain": [
       "<Figure size 1000x600 with 1 Axes>"
      ],
      "image/png": "[encoded data removed]"
     },
     "metadata": {},
     "output_type": "display_data"
    }
   ],
   "execution_count": 23
  },
  {
   "metadata": {},
   "cell_type": "markdown",
   "source": [
    "$$\n",
    "\\text{Product Level Insight}\n",
    "$$"
   ],
   "id": "c4e9aa5bfeb1360d"
  },
  {
   "metadata": {
    "ExecuteTime": {
     "end_time": "2025-02-17T18:27:53.431128Z",
     "start_time": "2025-02-17T18:27:53.395915Z"
    }
   },
   "cell_type": "code",
   "source": [
    "insight_df = merged_orders_inventory.copy()\n",
    "\n",
    "insight_df = insight_df.groupby('product_id').agg(\n",
    "    product_name=('product_name', 'first'),\n",
    "    total_orders=('order_id', 'nunique'),\n",
    "    total_quantity=('num_of_item', 'sum'),\n",
    "    total_revenue=('sale_price', 'sum'),\n",
    "    avg_sale_price=('sale_price', 'mean')\n",
    ").reset_index()"
   ],
   "id": "a991e7a7bc794edd",
   "outputs": [],
   "execution_count": 250
  },
  {
   "metadata": {
    "ExecuteTime": {
     "end_time": "2025-02-17T18:27:53.876634Z",
     "start_time": "2025-02-17T18:27:53.870079Z"
    }
   },
   "cell_type": "code",
   "source": [
    "insight_df = insight_df.sort_values(by='total_revenue', ascending=False)\n",
    "insight_df.head()"
   ],
   "id": "84a97fbe9ae00482",
   "outputs": [
    {
     "data": {
      "text/plain": [
       "       product_id                                product_name  total_orders  \\\n",
       "23483       23546             Alpha Industries Rip Stop Short            12   \n",
       "23740       23803       Canada Goose Men's The Chateau Jacket            12   \n",
       "8397         8429      The North Face Women's S-XL Oso Jacket            10   \n",
       "22864       22927  AIR JORDAN DOMINATE SHORTS MENS 465071-100            10   \n",
       "23585       23648   The North Face Apex Bionic Jacket - Men's            10   \n",
       "\n",
       "       total_quantity  total_revenue  avg_sale_price  \n",
       "23483              22        11988.0           999.0  \n",
       "23740              20         9780.0           815.0  \n",
       "8397               17         9030.0           903.0  \n",
       "22864              17         9030.0           903.0  \n",
       "23585              16         9030.0           903.0  "
      ],
      "text/html": [
       "<div>\n",
       "<style scoped>\n",
       "    .dataframe tbody tr th:only-of-type {\n",
       "        vertical-align: middle;\n",
       "    }\n",
       "\n",
       "    .dataframe tbody tr th {\n",
       "        vertical-align: top;\n",
       "    }\n",
       "\n",
       "    .dataframe thead th {\n",
       "        text-align: right;\n",
       "    }\n",
       "</style>\n",
       "<table border=\"1\" class=\"dataframe\">\n",
       "  <thead>\n",
       "    <tr style=\"text-align: right;\">\n",
       "      <th></th>\n",
       "      <th>product_id</th>\n",
       "      <th>product_name</th>\n",
       "      <th>total_orders</th>\n",
       "      <th>total_quantity</th>\n",
       "      <th>total_revenue</th>\n",
       "      <th>avg_sale_price</th>\n",
       "    </tr>\n",
       "  </thead>\n",
       "  <tbody>\n",
       "    <tr>\n",
       "      <th>23483</th>\n",
       "      <td>23546</td>\n",
       "      <td>Alpha Industries Rip Stop Short</td>\n",
       "      <td>12</td>\n",
       "      <td>22</td>\n",
       "      <td>11988.0</td>\n",
       "      <td>999.0</td>\n",
       "    </tr>\n",
       "    <tr>\n",
       "      <th>23740</th>\n",
       "      <td>23803</td>\n",
       "      <td>Canada Goose Men's The Chateau Jacket</td>\n",
       "      <td>12</td>\n",
       "      <td>20</td>\n",
       "      <td>9780.0</td>\n",
       "      <td>815.0</td>\n",
       "    </tr>\n",
       "    <tr>\n",
       "      <th>8397</th>\n",
       "      <td>8429</td>\n",
       "      <td>The North Face Women's S-XL Oso Jacket</td>\n",
       "      <td>10</td>\n",
       "      <td>17</td>\n",
       "      <td>9030.0</td>\n",
       "      <td>903.0</td>\n",
       "    </tr>\n",
       "    <tr>\n",
       "      <th>22864</th>\n",
       "      <td>22927</td>\n",
       "      <td>AIR JORDAN DOMINATE SHORTS MENS 465071-100</td>\n",
       "      <td>10</td>\n",
       "      <td>17</td>\n",
       "      <td>9030.0</td>\n",
       "      <td>903.0</td>\n",
       "    </tr>\n",
       "    <tr>\n",
       "      <th>23585</th>\n",
       "      <td>23648</td>\n",
       "      <td>The North Face Apex Bionic Jacket - Men's</td>\n",
       "      <td>10</td>\n",
       "      <td>16</td>\n",
       "      <td>9030.0</td>\n",
       "      <td>903.0</td>\n",
       "    </tr>\n",
       "  </tbody>\n",
       "</table>\n",
       "</div>"
      ]
     },
     "execution_count": 251,
     "metadata": {},
     "output_type": "execute_result"
    }
   ],
   "execution_count": 251
  },
  {
   "metadata": {
    "ExecuteTime": {
     "end_time": "2025-02-17T18:27:54.522067Z",
     "start_time": "2025-02-17T18:27:54.453161Z"
    }
   },
   "cell_type": "code",
   "source": [
    "top_10 = insight_df.head(10)\n",
    "\n",
    "plt.figure(figsize=(12, 6))\n",
    "plt.bar(top_10['product_id'].astype(str), top_10['total_revenue'], color='skyblue')\n",
    "plt.xlabel('Product ID')\n",
    "plt.ylabel('Total Revenue')\n",
    "plt.title('Top 10 Products by Total Revenue')\n",
    "plt.xticks(rotation=45)\n",
    "plt.tight_layout()\n",
    "plt.show()"
   ],
   "id": "b599cd0713561bff",
   "outputs": [
    {
     "data": {
      "text/plain": [
       "<Figure size 1200x600 with 1 Axes>"
      ],
      "image/png": "[encoded data removed]"
     },
     "metadata": {},
     "output_type": "display_data"
    }
   ],
   "execution_count": 252
  },
  {
   "metadata": {
    "ExecuteTime": {
     "end_time": "2025-02-17T18:31:22.815215Z",
     "start_time": "2025-02-17T18:31:22.810960Z"
    }
   },
   "cell_type": "code",
   "source": "insight_df[['product_id', 'product_name']].head(10)",
   "id": "e3483ec04f47f6ed",
   "outputs": [
    {
     "data": {
      "text/plain": [
       "       product_id                                          product_name\n",
       "23483       23546                       Alpha Industries Rip Stop Short\n",
       "23740       23803                 Canada Goose Men's The Chateau Jacket\n",
       "8397         8429                The North Face Women's S-XL Oso Jacket\n",
       "22864       22927            AIR JORDAN DOMINATE SHORTS MENS 465071-100\n",
       "23585       23648             The North Face Apex Bionic Jacket - Men's\n",
       "18282       18340                 Canada Goose Men's The Chateau Jacket\n",
       "8689         8721                                  Nobis Merideth Parka\n",
       "22749       22812                Quiksilver Men's Rockefeller Walkshort\n",
       "8287         8319                         Canada Goose Women's Mystique\n",
       "23591       23654  The North Face Apex Bionic Soft Shell Jacket - Men's"
      ],
      "text/html": [
       "<div>\n",
       "<style scoped>\n",
       "    .dataframe tbody tr th:only-of-type {\n",
       "        vertical-align: middle;\n",
       "    }\n",
       "\n",
       "    .dataframe tbody tr th {\n",
       "        vertical-align: top;\n",
       "    }\n",
       "\n",
       "    .dataframe thead th {\n",
       "        text-align: right;\n",
       "    }\n",
       "</style>\n",
       "<table border=\"1\" class=\"dataframe\">\n",
       "  <thead>\n",
       "    <tr style=\"text-align: right;\">\n",
       "      <th></th>\n",
       "      <th>product_id</th>\n",
       "      <th>product_name</th>\n",
       "    </tr>\n",
       "  </thead>\n",
       "  <tbody>\n",
       "    <tr>\n",
       "      <th>23483</th>\n",
       "      <td>23546</td>\n",
       "      <td>Alpha Industries Rip Stop Short</td>\n",
       "    </tr>\n",
       "    <tr>\n",
       "      <th>23740</th>\n",
       "      <td>23803</td>\n",
       "      <td>Canada Goose Men's The Chateau Jacket</td>\n",
       "    </tr>\n",
       "    <tr>\n",
       "      <th>8397</th>\n",
       "      <td>8429</td>\n",
       "      <td>The North Face Women's S-XL Oso Jacket</td>\n",
       "    </tr>\n",
       "    <tr>\n",
       "      <th>22864</th>\n",
       "      <td>22927</td>\n",
       "      <td>AIR JORDAN DOMINATE SHORTS MENS 465071-100</td>\n",
       "    </tr>\n",
       "    <tr>\n",
       "      <th>23585</th>\n",
       "      <td>23648</td>\n",
       "      <td>The North Face Apex Bionic Jacket - Men's</td>\n",
       "    </tr>\n",
       "    <tr>\n",
       "      <th>18282</th>\n",
       "      <td>18340</td>\n",
       "      <td>Canada Goose Men's The Chateau Jacket</td>\n",
       "    </tr>\n",
       "    <tr>\n",
       "      <th>8689</th>\n",
       "      <td>8721</td>\n",
       "      <td>Nobis Merideth Parka</td>\n",
       "    </tr>\n",
       "    <tr>\n",
       "      <th>22749</th>\n",
       "      <td>22812</td>\n",
       "      <td>Quiksilver Men's Rockefeller Walkshort</td>\n",
       "    </tr>\n",
       "    <tr>\n",
       "      <th>8287</th>\n",
       "      <td>8319</td>\n",
       "      <td>Canada Goose Women's Mystique</td>\n",
       "    </tr>\n",
       "    <tr>\n",
       "      <th>23591</th>\n",
       "      <td>23654</td>\n",
       "      <td>The North Face Apex Bionic Soft Shell Jacket - Men's</td>\n",
       "    </tr>\n",
       "  </tbody>\n",
       "</table>\n",
       "</div>"
      ]
     },
     "execution_count": 256,
     "metadata": {},
     "output_type": "execute_result"
    }
   ],
   "execution_count": 256
  },
  {
   "metadata": {},
   "cell_type": "markdown",
   "source": [
    "$$\n",
    "\\text{RFM Analysis}\n",
    "$$\n",
    "$$\n",
    "\\text{Recency(How many days since last purchase), Frequency(Total number of orders), Monetary(Total spend)}\n",
    "$$"
   ],
   "id": "d9214e7e02c08bde"
  },
  {
   "metadata": {
    "ExecuteTime": {
     "end_time": "2025-02-17T15:08:25.028457Z",
     "start_time": "2025-02-17T15:08:22.513673Z"
    }
   },
   "cell_type": "code",
   "source": [
    "ref_date = merged_orders_inventory['order_date'].max() + pd.Timedelta(days=1)\n",
    "\n",
    "rfm = merged_orders_inventory.groupby('user_id').agg({\n",
    "    'order_date': lambda x: (ref_date - x.max()).days,\n",
    "    'order_id': 'count',\n",
    "    'cost': 'sum'\n",
    "}).reset_index()\n",
    "\n",
    "rfm.columns = ['user_id', 'recency', 'frequency', 'monetary']"
   ],
   "id": "9f4b9ea7a4eb662f",
   "outputs": [],
   "execution_count": 206
  },
  {
   "metadata": {
    "ExecuteTime": {
     "end_time": "2025-02-17T15:08:28.441770Z",
     "start_time": "2025-02-17T15:08:28.437640Z"
    }
   },
   "cell_type": "code",
   "source": "rfm.head()",
   "id": "5c1872ae061a7836",
   "outputs": [
    {
     "data": {
      "text/plain": [
       "   user_id  recency  frequency    monetary\n",
       "0        1     1025          2   29.199571\n",
       "1        2      217          2   69.167241\n",
       "2        4      450          1   51.370000\n",
       "3        5       21          9  204.154881\n",
       "4        7       41          1   17.942400"
      ],
      "text/html": [
       "<div>\n",
       "<style scoped>\n",
       "    .dataframe tbody tr th:only-of-type {\n",
       "        vertical-align: middle;\n",
       "    }\n",
       "\n",
       "    .dataframe tbody tr th {\n",
       "        vertical-align: top;\n",
       "    }\n",
       "\n",
       "    .dataframe thead th {\n",
       "        text-align: right;\n",
       "    }\n",
       "</style>\n",
       "<table border=\"1\" class=\"dataframe\">\n",
       "  <thead>\n",
       "    <tr style=\"text-align: right;\">\n",
       "      <th></th>\n",
       "      <th>user_id</th>\n",
       "      <th>recency</th>\n",
       "      <th>frequency</th>\n",
       "      <th>monetary</th>\n",
       "    </tr>\n",
       "  </thead>\n",
       "  <tbody>\n",
       "    <tr>\n",
       "      <th>0</th>\n",
       "      <td>1</td>\n",
       "      <td>1025</td>\n",
       "      <td>2</td>\n",
       "      <td>29.199571</td>\n",
       "    </tr>\n",
       "    <tr>\n",
       "      <th>1</th>\n",
       "      <td>2</td>\n",
       "      <td>217</td>\n",
       "      <td>2</td>\n",
       "      <td>69.167241</td>\n",
       "    </tr>\n",
       "    <tr>\n",
       "      <th>2</th>\n",
       "      <td>4</td>\n",
       "      <td>450</td>\n",
       "      <td>1</td>\n",
       "      <td>51.370000</td>\n",
       "    </tr>\n",
       "    <tr>\n",
       "      <th>3</th>\n",
       "      <td>5</td>\n",
       "      <td>21</td>\n",
       "      <td>9</td>\n",
       "      <td>204.154881</td>\n",
       "    </tr>\n",
       "    <tr>\n",
       "      <th>4</th>\n",
       "      <td>7</td>\n",
       "      <td>41</td>\n",
       "      <td>1</td>\n",
       "      <td>17.942400</td>\n",
       "    </tr>\n",
       "  </tbody>\n",
       "</table>\n",
       "</div>"
      ]
     },
     "execution_count": 207,
     "metadata": {},
     "output_type": "execute_result"
    }
   ],
   "execution_count": 207
  },
  {
   "metadata": {},
   "cell_type": "markdown",
   "source": [
    "$$\n",
    "\\text{Clustering}\n",
    "$$"
   ],
   "id": "f168319a39d534c2"
  },
  {
   "metadata": {
    "ExecuteTime": {
     "end_time": "2025-02-17T15:08:30.591822Z",
     "start_time": "2025-02-17T15:08:30.583425Z"
    }
   },
   "cell_type": "code",
   "source": [
    "from sklearn.preprocessing import StandardScaler\n",
    "\n",
    "scaler = StandardScaler()\n",
    "rfm_scaled = scaler.fit_transform(rfm[['recency', 'frequency', 'monetary']])"
   ],
   "id": "fbfb6203156135bc",
   "outputs": [],
   "execution_count": 208
  },
  {
   "metadata": {
    "ExecuteTime": {
     "end_time": "2025-02-17T15:08:31.150606Z",
     "start_time": "2025-02-17T15:08:31.148382Z"
    }
   },
   "cell_type": "code",
   "source": "rfm_scaled",
   "id": "7c67030c3b5a2bcc",
   "outputs": [
    {
     "data": {
      "text/plain": [
       "array([[ 1.22535237, -0.16631272, -0.54317441],\n",
       "       [-0.53660272, -0.16631272,  0.06456632],\n",
       "       [-0.02851419, -0.78644661, -0.20605512],\n",
       "       ...,\n",
       "       [-0.95528512,  0.45382117,  0.35197614],\n",
       "       [ 0.07397577, -0.16631272,  0.41581574],\n",
       "       [ 2.05835589, -0.78644661, -0.71354135]])"
      ]
     },
     "execution_count": 209,
     "metadata": {},
     "output_type": "execute_result"
    }
   ],
   "execution_count": 209
  },
  {
   "metadata": {
    "ExecuteTime": {
     "end_time": "2025-02-17T15:08:32.595310Z",
     "start_time": "2025-02-17T15:08:32.452274Z"
    }
   },
   "cell_type": "code",
   "source": [
    "import numpy as np\n",
    "from sklearn.cluster import KMeans\n",
    "from sklearn.metrics import silhouette_score\n",
    "\n",
    "\n",
    "kmeans = KMeans(n_clusters=4, random_state=42)\n",
    "rfm['Cluster'] = kmeans.fit_predict(rfm_scaled)"
   ],
   "id": "660319cb99af826e",
   "outputs": [],
   "execution_count": 210
  },
  {
   "metadata": {
    "ExecuteTime": {
     "end_time": "2025-02-17T15:09:31.000835Z",
     "start_time": "2025-02-17T15:08:33.065264Z"
    }
   },
   "cell_type": "code",
   "source": [
    "score = silhouette_score(rfm_scaled, rfm['Cluster'])\n",
    "print(\"Silhouette Score:\", score)"
   ],
   "id": "5f13c4aab4b8d02",
   "outputs": [
    {
     "name": "stdout",
     "output_type": "stream",
     "text": [
      "Silhouette Score: 0.4039315209472784\n"
     ]
    }
   ],
   "execution_count": 211
  },
  {
   "metadata": {
    "ExecuteTime": {
     "end_time": "2025-02-17T15:09:31.051077Z",
     "start_time": "2025-02-17T15:09:31.046163Z"
    }
   },
   "cell_type": "code",
   "source": [
    "cluster_summary = rfm.groupby('Cluster').agg({\n",
    "    'recency': 'mean',\n",
    "    'frequency': 'mean',\n",
    "    'monetary': 'mean'\n",
    "})\n",
    "print(cluster_summary)"
   ],
   "id": "74173d02b7bacead",
   "outputs": [
    {
     "name": "stdout",
     "output_type": "stream",
     "text": [
      "             recency  frequency    monetary\n",
      "Cluster                                    \n",
      "0        1189.365312   1.544817   40.750995\n",
      "1         274.589733   3.557252  101.459366\n",
      "2         294.124452   5.903373  227.600538\n",
      "3         259.634384    1.38538   32.259697\n"
     ]
    }
   ],
   "execution_count": 212
  },
  {
   "metadata": {},
   "cell_type": "markdown",
   "source": "https://www.optimove.com/resources/learning-center/rfm-segmentation",
   "id": "f02cfb5deda40fb0"
  },
  {
   "metadata": {},
   "cell_type": "markdown",
   "source": [
    "$$\n",
    "\\text{Divide Customers into Tiers}\n",
    "$$"
   ],
   "id": "e9f0c972523c217f"
  },
  {
   "metadata": {
    "ExecuteTime": {
     "end_time": "2025-02-17T15:10:40.527949Z",
     "start_time": "2025-02-17T15:10:40.523826Z"
    }
   },
   "cell_type": "code",
   "source": "rfm.info()",
   "id": "5eb875b96166d1f2",
   "outputs": [
    {
     "name": "stdout",
     "output_type": "stream",
     "text": [
      "<class 'pandas.core.frame.DataFrame'>\n",
      "RangeIndex: 79996 entries, 0 to 79995\n",
      "Data columns (total 6 columns):\n",
      " #   Column     Non-Null Count  Dtype   \n",
      "---  ------     --------------  -----   \n",
      " 0   user_id    79996 non-null  Int64   \n",
      " 1   recency    79996 non-null  int64   \n",
      " 2   frequency  79996 non-null  Int64   \n",
      " 3   monetary   79996 non-null  float64 \n",
      " 4   Cluster    79996 non-null  int32   \n",
      " 5   R_tier     79996 non-null  category\n",
      "dtypes: Int64(2), category(1), float64(1), int32(1), int64(1)\n",
      "memory usage: 3.0 MB\n"
     ]
    }
   ],
   "execution_count": 216
  },
  {
   "metadata": {
    "ExecuteTime": {
     "end_time": "2025-02-17T15:18:15.076022Z",
     "start_time": "2025-02-17T15:18:15.031937Z"
    }
   },
   "cell_type": "code",
   "source": [
    "rfm['R_tier'] = pd.qcut(rfm['recency'], 4, duplicates='drop').cat.codes + 1\n",
    "rfm['F_tier'] = 4 - pd.qcut(rfm['frequency'], 4, duplicates='drop').cat.codes\n",
    "rfm['M_tier'] = 4 - pd.qcut(rfm['monetary'], 4, duplicates='drop').cat.codes\n",
    "rfm['RFM_Segment'] = (\n",
    "    rfm['R_tier'].astype(str) + '-' +\n",
    "    rfm['F_tier'].astype(str) + '-' +\n",
    "    rfm['M_tier'].astype(str)\n",
    ")\n",
    "\n",
    "print(rfm[['user_id', 'recency', 'frequency', 'monetary', 'R_tier', 'F_tier', 'M_tier', 'RFM_Segment']].head())\n"
   ],
   "id": "eca73d9a85a23c83",
   "outputs": [
    {
     "name": "stdout",
     "output_type": "stream",
     "text": [
      "   user_id  recency  frequency    monetary  R_tier  F_tier  M_tier RFM_Segment\n",
      "0        1     1025          2   29.199571       4       4       3       4-4-3\n",
      "1        2      217          2   69.167241       2       4       2       2-4-2\n",
      "2        4      450          1   51.370000       3       4       2       3-4-2\n",
      "3        5       21          9  204.154881       1       2       1       1-2-1\n",
      "4        7       41          1   17.942400       1       4       4       1-4-4\n"
     ]
    }
   ],
   "execution_count": 220
  },
  {
   "metadata": {},
   "cell_type": "markdown",
   "source": [
    "$$\n",
    "\\text{Best Customers 1-1-1}\n",
    "$$\n",
    "$$\n",
    "\\text{High-spending New Customers 1-4-1 1-4-2}\n",
    "$$\n",
    "$$\n",
    "\\text{Low-Spending Active Loyal Customers 1-1-3 1-1-4 2-1-3 2-1-4}\n",
    "$$\n",
    "$$\n",
    "\\text{Churned Best/Great Customers 4-1-1 4-1-2 4-2-1 4-2-2}\n",
    "$$\n",
    "$$\n",
    "\\text{Others (could make more assignments)}\n",
    "$$"
   ],
   "id": "6a000f2cc31aebf6"
  },
  {
   "metadata": {
    "ExecuteTime": {
     "end_time": "2025-02-17T15:28:52.754531Z",
     "start_time": "2025-02-17T15:28:52.752470Z"
    }
   },
   "cell_type": "code",
   "source": [
    "def assign_customer(rfm_segment):\n",
    "    if rfm_segment == \"1-1-1\":\n",
    "        return \"Champions\"\n",
    "    elif rfm_segment == \"1-4-1\" or rfm_segment == \"1-4-2\":\n",
    "        return \"High-spending New Customers\"\n",
    "    elif rfm_segment in ['1-1-3', '1-1-3', '2-1-3', '2-1-4']:\n",
    "        return \"Low-spending Active Loyal Customers\"\n",
    "    elif rfm_segment in ['4-1-1', '4-1-2', '4-2-1', '4-2-2']:\n",
    "        return \"Churned Best/Great Customers\"\n",
    "    else:\n",
    "        return \"Others\"\n"
   ],
   "id": "4f9d67142169913a",
   "outputs": [],
   "execution_count": 228
  },
  {
   "metadata": {
    "ExecuteTime": {
     "end_time": "2025-02-17T15:28:53.446323Z",
     "start_time": "2025-02-17T15:28:53.435314Z"
    }
   },
   "cell_type": "code",
   "source": "rfm[\"Segment_Name\"] = rfm['RFM_Segment'].apply(assign_customer)",
   "id": "3456425b2e00f1b6",
   "outputs": [],
   "execution_count": 229
  },
  {
   "metadata": {
    "ExecuteTime": {
     "end_time": "2025-02-17T16:15:21.695956Z",
     "start_time": "2025-02-17T16:15:21.692514Z"
    }
   },
   "cell_type": "code",
   "source": "print(rfm)",
   "id": "aea5cf4f5eb4e385",
   "outputs": [
    {
     "name": "stdout",
     "output_type": "stream",
     "text": [
      "       user_id  recency  frequency    monetary  Cluster  R_tier  F_tier  \\\n",
      "0            1     1025          2   29.199571        0       4       4   \n",
      "1            2      217          2   69.167241        3       2       4   \n",
      "2            4      450          1   51.370000        3       3       4   \n",
      "3            5       21          9  204.154881        2       1       2   \n",
      "4            7       41          1   17.942400        3       1       4   \n",
      "...        ...      ...        ...         ...      ...     ...     ...   \n",
      "79991    99994      602          4  145.086049        1       3       2   \n",
      "79992    99995      409          2   87.549180        3       3       4   \n",
      "79993    99996       25          3   88.068559        1       1       3   \n",
      "79994    99999      497          2   92.266929        1       3       4   \n",
      "79995   100000     1407          1   17.995501        0       4       4   \n",
      "\n",
      "       M_tier RFM_Segment Segment_Name  \n",
      "0           3       4-4-3       Others  \n",
      "1           2       2-4-2       Others  \n",
      "2           2       3-4-2       Others  \n",
      "3           1       1-2-1       Others  \n",
      "4           4       1-4-4       Others  \n",
      "...       ...         ...          ...  \n",
      "79991       1       3-2-1       Others  \n",
      "79992       2       3-4-2       Others  \n",
      "79993       1       1-3-1       Others  \n",
      "79994       1       3-4-1       Others  \n",
      "79995       4       4-4-4       Others  \n",
      "\n",
      "[79996 rows x 10 columns]\n"
     ]
    }
   ],
   "execution_count": 235
  },
  {
   "metadata": {},
   "cell_type": "markdown",
   "source": [
    "$$\n",
    "\\text{Creating Table with SegmentName, userid, products bought by customer for future marketing models}\n",
    "$$"
   ],
   "id": "46b8297fe19c1514"
  },
  {
   "metadata": {
    "ExecuteTime": {
     "end_time": "2025-02-17T16:19:30.623828Z",
     "start_time": "2025-02-17T16:19:30.601389Z"
    }
   },
   "cell_type": "code",
   "source": [
    "orders_info = merged_orders_inventory[['order_id','user_id', 'status', 'product_name', 'product_category']].copy()\n",
    "rfm_info = rfm[['user_id', 'Segment_Name']].copy()\n",
    "\n",
    "merged_df = pd.merge(orders_info, rfm_info, on='user_id', how='left')\n",
    "merged_df.set_index('user_id', inplace=True)"
   ],
   "id": "3ff467f81f0d52a7",
   "outputs": [],
   "execution_count": 236
  },
  {
   "metadata": {},
   "cell_type": "markdown",
   "source": [
    "$$\n",
    "\\text{Split orders on status for better customer service}\n",
    "$$"
   ],
   "id": "3d0dbd00fa7ebbcc"
  },
  {
   "metadata": {
    "ExecuteTime": {
     "end_time": "2025-02-17T16:21:38.793792Z",
     "start_time": "2025-02-17T16:21:38.770408Z"
    }
   },
   "cell_type": "code",
   "source": [
    "merged_df = merged_df[merged_df['Segment_Name'].str.lower() != 'others']\n",
    "merged_df.head()"
   ],
   "id": "a8f5b0ae492f4c84",
   "outputs": [
    {
     "data": {
      "text/plain": [
       "         order_id    status  \\\n",
       "user_id                       \n",
       "29             30   Shipped   \n",
       "29             31  Returned   \n",
       "29             31  Returned   \n",
       "29             31  Returned   \n",
       "29             32   Shipped   \n",
       "\n",
       "                                                       product_name  \\\n",
       "user_id                                                               \n",
       "29                 LRG The Travel Unravel TS Jeans in Dark Charcoal   \n",
       "29                              Storus Smart Black Matte Money Clip   \n",
       "29          Savane Men's Deep Dye Microfiber Pleated Gaberdine Pant   \n",
       "29                          Pendleton Men's Classic Fit Board Shirt   \n",
       "29       Kenneth Cole Reaction Men's Fitted Tonal Solid Dress Shirt   \n",
       "\n",
       "        product_category                  Segment_Name  \n",
       "user_id                                                 \n",
       "29                 Jeans  Churned Best/Great Customers  \n",
       "29           Accessories  Churned Best/Great Customers  \n",
       "29                 Pants  Churned Best/Great Customers  \n",
       "29           Tops & Tees  Churned Best/Great Customers  \n",
       "29           Tops & Tees  Churned Best/Great Customers  "
      ],
      "text/html": [
       "<div>\n",
       "<style scoped>\n",
       "    .dataframe tbody tr th:only-of-type {\n",
       "        vertical-align: middle;\n",
       "    }\n",
       "\n",
       "    .dataframe tbody tr th {\n",
       "        vertical-align: top;\n",
       "    }\n",
       "\n",
       "    .dataframe thead th {\n",
       "        text-align: right;\n",
       "    }\n",
       "</style>\n",
       "<table border=\"1\" class=\"dataframe\">\n",
       "  <thead>\n",
       "    <tr style=\"text-align: right;\">\n",
       "      <th></th>\n",
       "      <th>order_id</th>\n",
       "      <th>status</th>\n",
       "      <th>product_name</th>\n",
       "      <th>product_category</th>\n",
       "      <th>Segment_Name</th>\n",
       "    </tr>\n",
       "    <tr>\n",
       "      <th>user_id</th>\n",
       "      <th></th>\n",
       "      <th></th>\n",
       "      <th></th>\n",
       "      <th></th>\n",
       "      <th></th>\n",
       "    </tr>\n",
       "  </thead>\n",
       "  <tbody>\n",
       "    <tr>\n",
       "      <th>29</th>\n",
       "      <td>30</td>\n",
       "      <td>Shipped</td>\n",
       "      <td>LRG The Travel Unravel TS Jeans in Dark Charcoal</td>\n",
       "      <td>Jeans</td>\n",
       "      <td>Churned Best/Great Customers</td>\n",
       "    </tr>\n",
       "    <tr>\n",
       "      <th>29</th>\n",
       "      <td>31</td>\n",
       "      <td>Returned</td>\n",
       "      <td>Storus Smart Black Matte Money Clip</td>\n",
       "      <td>Accessories</td>\n",
       "      <td>Churned Best/Great Customers</td>\n",
       "    </tr>\n",
       "    <tr>\n",
       "      <th>29</th>\n",
       "      <td>31</td>\n",
       "      <td>Returned</td>\n",
       "      <td>Savane Men's Deep Dye Microfiber Pleated Gaberdine Pant</td>\n",
       "      <td>Pants</td>\n",
       "      <td>Churned Best/Great Customers</td>\n",
       "    </tr>\n",
       "    <tr>\n",
       "      <th>29</th>\n",
       "      <td>31</td>\n",
       "      <td>Returned</td>\n",
       "      <td>Pendleton Men's Classic Fit Board Shirt</td>\n",
       "      <td>Tops &amp; Tees</td>\n",
       "      <td>Churned Best/Great Customers</td>\n",
       "    </tr>\n",
       "    <tr>\n",
       "      <th>29</th>\n",
       "      <td>32</td>\n",
       "      <td>Shipped</td>\n",
       "      <td>Kenneth Cole Reaction Men's Fitted Tonal Solid Dress Shirt</td>\n",
       "      <td>Tops &amp; Tees</td>\n",
       "      <td>Churned Best/Great Customers</td>\n",
       "    </tr>\n",
       "  </tbody>\n",
       "</table>\n",
       "</div>"
      ]
     },
     "execution_count": 238,
     "metadata": {},
     "output_type": "execute_result"
    }
   ],
   "execution_count": 238
  },
  {
   "metadata": {},
   "cell_type": "markdown",
   "source": [
    "$$\n",
    "\\text{Revenue and Income Predictions}\n",
    "$$"
   ],
   "id": "9be753d4e31f6175"
  },
  {
   "metadata": {
    "ExecuteTime": {
     "end_time": "2025-02-17T13:01:02.974954Z",
     "start_time": "2025-02-17T13:01:02.898335Z"
    }
   },
   "cell_type": "code",
   "source": "time_series_rev = merged_orders_inventory.copy()",
   "id": "796ee83c1296007c",
   "outputs": [],
   "execution_count": 31
  },
  {
   "metadata": {
    "ExecuteTime": {
     "end_time": "2025-02-17T13:01:03.016076Z",
     "start_time": "2025-02-17T13:01:02.992179Z"
    }
   },
   "cell_type": "code",
   "source": [
    "columns_to_drop = [\n",
    "    'order_id', 'user_id', 'gender', 'num_of_item',\n",
    "    'product_id', 'inventory_item_id', 'product_retail_price',\n",
    "    'product_department', 'status'\n",
    "]\n",
    "time_series_rev.drop(columns=columns_to_drop, inplace=True)\n"
   ],
   "id": "238c213dc2c57a68",
   "outputs": [],
   "execution_count": 32
  },
  {
   "metadata": {
    "ExecuteTime": {
     "end_time": "2025-02-17T13:01:03.077016Z",
     "start_time": "2025-02-17T13:01:03.035914Z"
    }
   },
   "cell_type": "code",
   "source": "time_series_rev.head()",
   "id": "1d1c4cb4e6b85490",
   "outputs": [
    {
     "data": {
      "text/plain": [
       "                 order_date  sale_price       cost product_category  \\\n",
       "0 2022-04-30 09:37:00+00:00   14.970000   7.485000             Plus   \n",
       "1 2022-04-30 09:37:00+00:00   39.990002  21.714571      Tops & Tees   \n",
       "2 2024-07-16 14:52:00+00:00   25.000000  10.025000             Swim   \n",
       "3 2024-07-16 14:52:00+00:00   98.080002  59.142241            Suits   \n",
       "4 2023-11-26 12:03:00+00:00  110.000000  51.370000         Sweaters   \n",
       "\n",
       "                                                                      product_name  \n",
       "0                      Collections Etc - Button Front Argyle V-Neck Career Sweater  \n",
       "1                       Patty Women Cowl Neck Button Embellished Ruched Blouse Top  \n",
       "2                             Body Glove Juniors Smoothies Skirt Rider Swim Bottom  \n",
       "3                                              Evan Picone English Rose Skirt Suit  \n",
       "4  Christopher Fischer Women's 100% Cashmere Long-Sleeve Striped Dip-Dyed Cardigan  "
      ],
      "text/html": [
       "<div>\n",
       "<style scoped>\n",
       "    .dataframe tbody tr th:only-of-type {\n",
       "        vertical-align: middle;\n",
       "    }\n",
       "\n",
       "    .dataframe tbody tr th {\n",
       "        vertical-align: top;\n",
       "    }\n",
       "\n",
       "    .dataframe thead th {\n",
       "        text-align: right;\n",
       "    }\n",
       "</style>\n",
       "<table border=\"1\" class=\"dataframe\">\n",
       "  <thead>\n",
       "    <tr style=\"text-align: right;\">\n",
       "      <th></th>\n",
       "      <th>order_date</th>\n",
       "      <th>sale_price</th>\n",
       "      <th>cost</th>\n",
       "      <th>product_category</th>\n",
       "      <th>product_name</th>\n",
       "    </tr>\n",
       "  </thead>\n",
       "  <tbody>\n",
       "    <tr>\n",
       "      <th>0</th>\n",
       "      <td>2022-04-30 09:37:00+00:00</td>\n",
       "      <td>14.970000</td>\n",
       "      <td>7.485000</td>\n",
       "      <td>Plus</td>\n",
       "      <td>Collections Etc - Button Front Argyle V-Neck Career Sweater</td>\n",
       "    </tr>\n",
       "    <tr>\n",
       "      <th>1</th>\n",
       "      <td>2022-04-30 09:37:00+00:00</td>\n",
       "      <td>39.990002</td>\n",
       "      <td>21.714571</td>\n",
       "      <td>Tops &amp; Tees</td>\n",
       "      <td>Patty Women Cowl Neck Button Embellished Ruched Blouse Top</td>\n",
       "    </tr>\n",
       "    <tr>\n",
       "      <th>2</th>\n",
       "      <td>2024-07-16 14:52:00+00:00</td>\n",
       "      <td>25.000000</td>\n",
       "      <td>10.025000</td>\n",
       "      <td>Swim</td>\n",
       "      <td>Body Glove Juniors Smoothies Skirt Rider Swim Bottom</td>\n",
       "    </tr>\n",
       "    <tr>\n",
       "      <th>3</th>\n",
       "      <td>2024-07-16 14:52:00+00:00</td>\n",
       "      <td>98.080002</td>\n",
       "      <td>59.142241</td>\n",
       "      <td>Suits</td>\n",
       "      <td>Evan Picone English Rose Skirt Suit</td>\n",
       "    </tr>\n",
       "    <tr>\n",
       "      <th>4</th>\n",
       "      <td>2023-11-26 12:03:00+00:00</td>\n",
       "      <td>110.000000</td>\n",
       "      <td>51.370000</td>\n",
       "      <td>Sweaters</td>\n",
       "      <td>Christopher Fischer Women's 100% Cashmere Long-Sleeve Striped Dip-Dyed Cardigan</td>\n",
       "    </tr>\n",
       "  </tbody>\n",
       "</table>\n",
       "</div>"
      ]
     },
     "execution_count": 33,
     "metadata": {},
     "output_type": "execute_result"
    }
   ],
   "execution_count": 33
  },
  {
   "metadata": {
    "ExecuteTime": {
     "end_time": "2025-02-17T13:01:03.461168Z",
     "start_time": "2025-02-17T13:01:03.112696Z"
    }
   },
   "cell_type": "code",
   "source": [
    "time_series_rev['order_date'] = pd.to_datetime(time_series_rev['order_date'], errors='coerce')\n",
    "\n",
    "time_series_rev['order_month'] = time_series_rev['order_date'].dt.strftime('%Y-%m')"
   ],
   "id": "9b1119820e6ca73b",
   "outputs": [],
   "execution_count": 34
  },
  {
   "metadata": {
    "ExecuteTime": {
     "end_time": "2025-02-17T13:01:03.518742Z",
     "start_time": "2025-02-17T13:01:03.513620Z"
    }
   },
   "cell_type": "code",
   "source": "time_series_rev",
   "id": "9d707af20f432a95",
   "outputs": [
    {
     "data": {
      "text/plain": [
       "                      order_date  sale_price       cost product_category  \\\n",
       "0      2022-04-30 09:37:00+00:00   14.970000   7.485000             Plus   \n",
       "1      2022-04-30 09:37:00+00:00   39.990002  21.714571      Tops & Tees   \n",
       "2      2024-07-16 14:52:00+00:00   25.000000  10.025000             Swim   \n",
       "3      2024-07-16 14:52:00+00:00   98.080002  59.142241            Suits   \n",
       "4      2023-11-26 12:03:00+00:00  110.000000  51.370000         Sweaters   \n",
       "...                          ...         ...        ...              ...   \n",
       "181441 2024-10-07 11:16:00+00:00   69.989998  32.615339           Shorts   \n",
       "181442 2025-01-24 11:16:00+00:00   37.990002  16.259721          Dresses   \n",
       "181443 2022-07-07 09:46:00+00:00   31.990000  20.697530            Socks   \n",
       "181444 2023-10-10 09:46:00+00:00  146.059998  71.569399            Jeans   \n",
       "181445 2021-04-13 06:44:00+00:00   39.990002  17.995501        Underwear   \n",
       "\n",
       "                                                                           product_name  \\\n",
       "0                           Collections Etc - Button Front Argyle V-Neck Career Sweater   \n",
       "1                            Patty Women Cowl Neck Button Embellished Ruched Blouse Top   \n",
       "2                                  Body Glove Juniors Smoothies Skirt Rider Swim Bottom   \n",
       "3                                                   Evan Picone English Rose Skirt Suit   \n",
       "4       Christopher Fischer Women's 100% Cashmere Long-Sleeve Striped Dip-Dyed Cardigan   \n",
       "...                                                                                 ...   \n",
       "181441                              True Religion Brand Jeans Womens Corgo Shorts Black   \n",
       "181442     Short Sleeve Cowl Neck Fitted Warm Winter Plaid Sweater Mini Dress Top S M L   \n",
       "181443                               Diamond Supply Co HI OG 2 Stripe Socks 3pk - Men's   \n",
       "181444        7 For All Mankind Men's Slimmy Slim Straight Leg Jean in Los Angeles Dark   \n",
       "181445                                                    Pull-In Men's Fashion Missing   \n",
       "\n",
       "       order_month  \n",
       "0          2022-04  \n",
       "1          2022-04  \n",
       "2          2024-07  \n",
       "3          2024-07  \n",
       "4          2023-11  \n",
       "...            ...  \n",
       "181441     2024-10  \n",
       "181442     2025-01  \n",
       "181443     2022-07  \n",
       "181444     2023-10  \n",
       "181445     2021-04  \n",
       "\n",
       "[181446 rows x 6 columns]"
      ],
      "text/html": [
       "<div>\n",
       "<style scoped>\n",
       "    .dataframe tbody tr th:only-of-type {\n",
       "        vertical-align: middle;\n",
       "    }\n",
       "\n",
       "    .dataframe tbody tr th {\n",
       "        vertical-align: top;\n",
       "    }\n",
       "\n",
       "    .dataframe thead th {\n",
       "        text-align: right;\n",
       "    }\n",
       "</style>\n",
       "<table border=\"1\" class=\"dataframe\">\n",
       "  <thead>\n",
       "    <tr style=\"text-align: right;\">\n",
       "      <th></th>\n",
       "      <th>order_date</th>\n",
       "      <th>sale_price</th>\n",
       "      <th>cost</th>\n",
       "      <th>product_category</th>\n",
       "      <th>product_name</th>\n",
       "      <th>order_month</th>\n",
       "    </tr>\n",
       "  </thead>\n",
       "  <tbody>\n",
       "    <tr>\n",
       "      <th>0</th>\n",
       "      <td>2022-04-30 09:37:00+00:00</td>\n",
       "      <td>14.970000</td>\n",
       "      <td>7.485000</td>\n",
       "      <td>Plus</td>\n",
       "      <td>Collections Etc - Button Front Argyle V-Neck Career Sweater</td>\n",
       "      <td>2022-04</td>\n",
       "    </tr>\n",
       "    <tr>\n",
       "      <th>1</th>\n",
       "      <td>2022-04-30 09:37:00+00:00</td>\n",
       "      <td>39.990002</td>\n",
       "      <td>21.714571</td>\n",
       "      <td>Tops &amp; Tees</td>\n",
       "      <td>Patty Women Cowl Neck Button Embellished Ruched Blouse Top</td>\n",
       "      <td>2022-04</td>\n",
       "    </tr>\n",
       "    <tr>\n",
       "      <th>2</th>\n",
       "      <td>2024-07-16 14:52:00+00:00</td>\n",
       "      <td>25.000000</td>\n",
       "      <td>10.025000</td>\n",
       "      <td>Swim</td>\n",
       "      <td>Body Glove Juniors Smoothies Skirt Rider Swim Bottom</td>\n",
       "      <td>2024-07</td>\n",
       "    </tr>\n",
       "    <tr>\n",
       "      <th>3</th>\n",
       "      <td>2024-07-16 14:52:00+00:00</td>\n",
       "      <td>98.080002</td>\n",
       "      <td>59.142241</td>\n",
       "      <td>Suits</td>\n",
       "      <td>Evan Picone English Rose Skirt Suit</td>\n",
       "      <td>2024-07</td>\n",
       "    </tr>\n",
       "    <tr>\n",
       "      <th>4</th>\n",
       "      <td>2023-11-26 12:03:00+00:00</td>\n",
       "      <td>110.000000</td>\n",
       "      <td>51.370000</td>\n",
       "      <td>Sweaters</td>\n",
       "      <td>Christopher Fischer Women's 100% Cashmere Long-Sleeve Striped Dip-Dyed Cardigan</td>\n",
       "      <td>2023-11</td>\n",
       "    </tr>\n",
       "    <tr>\n",
       "      <th>...</th>\n",
       "      <td>...</td>\n",
       "      <td>...</td>\n",
       "      <td>...</td>\n",
       "      <td>...</td>\n",
       "      <td>...</td>\n",
       "      <td>...</td>\n",
       "    </tr>\n",
       "    <tr>\n",
       "      <th>181441</th>\n",
       "      <td>2024-10-07 11:16:00+00:00</td>\n",
       "      <td>69.989998</td>\n",
       "      <td>32.615339</td>\n",
       "      <td>Shorts</td>\n",
       "      <td>True Religion Brand Jeans Womens Corgo Shorts Black</td>\n",
       "      <td>2024-10</td>\n",
       "    </tr>\n",
       "    <tr>\n",
       "      <th>181442</th>\n",
       "      <td>2025-01-24 11:16:00+00:00</td>\n",
       "      <td>37.990002</td>\n",
       "      <td>16.259721</td>\n",
       "      <td>Dresses</td>\n",
       "      <td>Short Sleeve Cowl Neck Fitted Warm Winter Plaid Sweater Mini Dress Top S M L</td>\n",
       "      <td>2025-01</td>\n",
       "    </tr>\n",
       "    <tr>\n",
       "      <th>181443</th>\n",
       "      <td>2022-07-07 09:46:00+00:00</td>\n",
       "      <td>31.990000</td>\n",
       "      <td>20.697530</td>\n",
       "      <td>Socks</td>\n",
       "      <td>Diamond Supply Co HI OG 2 Stripe Socks 3pk - Men's</td>\n",
       "      <td>2022-07</td>\n",
       "    </tr>\n",
       "    <tr>\n",
       "      <th>181444</th>\n",
       "      <td>2023-10-10 09:46:00+00:00</td>\n",
       "      <td>146.059998</td>\n",
       "      <td>71.569399</td>\n",
       "      <td>Jeans</td>\n",
       "      <td>7 For All Mankind Men's Slimmy Slim Straight Leg Jean in Los Angeles Dark</td>\n",
       "      <td>2023-10</td>\n",
       "    </tr>\n",
       "    <tr>\n",
       "      <th>181445</th>\n",
       "      <td>2021-04-13 06:44:00+00:00</td>\n",
       "      <td>39.990002</td>\n",
       "      <td>17.995501</td>\n",
       "      <td>Underwear</td>\n",
       "      <td>Pull-In Men's Fashion Missing</td>\n",
       "      <td>2021-04</td>\n",
       "    </tr>\n",
       "  </tbody>\n",
       "</table>\n",
       "<p>181446 rows × 6 columns</p>\n",
       "</div>"
      ]
     },
     "execution_count": 35,
     "metadata": {},
     "output_type": "execute_result"
    }
   ],
   "execution_count": 35
  },
  {
   "metadata": {
    "ExecuteTime": {
     "end_time": "2025-02-17T13:01:03.585135Z",
     "start_time": "2025-02-17T13:01:03.582681Z"
    }
   },
   "cell_type": "code",
   "source": [
    "time_series_rev['revenue'] = time_series_rev['sale_price']\n",
    "time_series_rev['income'] = time_series_rev['sale_price'] - time_series_rev['cost']"
   ],
   "id": "a36d0629a70e3f76",
   "outputs": [],
   "execution_count": 36
  },
  {
   "metadata": {
    "ExecuteTime": {
     "end_time": "2025-02-17T13:01:03.668453Z",
     "start_time": "2025-02-17T13:01:03.626145Z"
    }
   },
   "cell_type": "code",
   "source": [
    "time_series = time_series_rev.groupby('order_month').agg({\n",
    "    'sale_price': 'sum',\n",
    "    'cost': 'sum',\n",
    "    'revenue': 'sum',\n",
    "    'income': 'sum'\n",
    "}).reset_index()"
   ],
   "id": "df98b0123bc6b153",
   "outputs": [],
   "execution_count": 37
  },
  {
   "metadata": {
    "ExecuteTime": {
     "end_time": "2025-02-17T13:01:03.942635Z",
     "start_time": "2025-02-17T13:01:03.686493Z"
    }
   },
   "cell_type": "code",
   "source": [
    "plt.figure(figsize=(20, 10))\n",
    "\n",
    "plt.plot(time_series['order_month'], time_series['sale_price'], marker='o', label='Sale Price (Revenue)')\n",
    "plt.plot(time_series['order_month'], time_series['cost'], marker='o', label='Cost')\n",
    "plt.plot(time_series['order_month'], time_series['income'], marker='o', label='Income (Revenue - Cost)')\n",
    "\n",
    "plt.title(\"Monthly Time Series: Sale Price, Cost, and Income\", fontsize=16)\n",
    "plt.xlabel(\"Order Month\", fontsize=14)\n",
    "plt.ylabel(\"Amount\", fontsize=14)\n",
    "plt.legend(fontsize=12)\n",
    "\n",
    "plt.xticks(rotation=90)\n",
    "\n",
    "plt.tight_layout()\n",
    "\n",
    "plt.show()"
   ],
   "id": "e6b8080b6eddfdda",
   "outputs": [
    {
     "data": {
      "text/plain": [
       "<Figure size 2000x1000 with 1 Axes>"
      ],
      "image/png": "[encoded data removed]"
     },
     "metadata": {},
     "output_type": "display_data"
    }
   ],
   "execution_count": 38
  },
  {
   "metadata": {
    "ExecuteTime": {
     "end_time": "2025-02-17T13:01:03.954328Z",
     "start_time": "2025-02-17T13:01:03.948531Z"
    }
   },
   "cell_type": "code",
   "source": "time_series_rev.head()",
   "id": "5baa68e612361d2b",
   "outputs": [
    {
     "data": {
      "text/plain": [
       "                 order_date  sale_price       cost product_category  \\\n",
       "0 2022-04-30 09:37:00+00:00   14.970000   7.485000             Plus   \n",
       "1 2022-04-30 09:37:00+00:00   39.990002  21.714571      Tops & Tees   \n",
       "2 2024-07-16 14:52:00+00:00   25.000000  10.025000             Swim   \n",
       "3 2024-07-16 14:52:00+00:00   98.080002  59.142241            Suits   \n",
       "4 2023-11-26 12:03:00+00:00  110.000000  51.370000         Sweaters   \n",
       "\n",
       "                                                                      product_name  \\\n",
       "0                      Collections Etc - Button Front Argyle V-Neck Career Sweater   \n",
       "1                       Patty Women Cowl Neck Button Embellished Ruched Blouse Top   \n",
       "2                             Body Glove Juniors Smoothies Skirt Rider Swim Bottom   \n",
       "3                                              Evan Picone English Rose Skirt Suit   \n",
       "4  Christopher Fischer Women's 100% Cashmere Long-Sleeve Striped Dip-Dyed Cardigan   \n",
       "\n",
       "  order_month     revenue     income  \n",
       "0     2022-04   14.970000   7.485000  \n",
       "1     2022-04   39.990002  18.275431  \n",
       "2     2024-07   25.000000  14.975000  \n",
       "3     2024-07   98.080002  38.937761  \n",
       "4     2023-11  110.000000  58.630000  "
      ],
      "text/html": [
       "<div>\n",
       "<style scoped>\n",
       "    .dataframe tbody tr th:only-of-type {\n",
       "        vertical-align: middle;\n",
       "    }\n",
       "\n",
       "    .dataframe tbody tr th {\n",
       "        vertical-align: top;\n",
       "    }\n",
       "\n",
       "    .dataframe thead th {\n",
       "        text-align: right;\n",
       "    }\n",
       "</style>\n",
       "<table border=\"1\" class=\"dataframe\">\n",
       "  <thead>\n",
       "    <tr style=\"text-align: right;\">\n",
       "      <th></th>\n",
       "      <th>order_date</th>\n",
       "      <th>sale_price</th>\n",
       "      <th>cost</th>\n",
       "      <th>product_category</th>\n",
       "      <th>product_name</th>\n",
       "      <th>order_month</th>\n",
       "      <th>revenue</th>\n",
       "      <th>income</th>\n",
       "    </tr>\n",
       "  </thead>\n",
       "  <tbody>\n",
       "    <tr>\n",
       "      <th>0</th>\n",
       "      <td>2022-04-30 09:37:00+00:00</td>\n",
       "      <td>14.970000</td>\n",
       "      <td>7.485000</td>\n",
       "      <td>Plus</td>\n",
       "      <td>Collections Etc - Button Front Argyle V-Neck Career Sweater</td>\n",
       "      <td>2022-04</td>\n",
       "      <td>14.970000</td>\n",
       "      <td>7.485000</td>\n",
       "    </tr>\n",
       "    <tr>\n",
       "      <th>1</th>\n",
       "      <td>2022-04-30 09:37:00+00:00</td>\n",
       "      <td>39.990002</td>\n",
       "      <td>21.714571</td>\n",
       "      <td>Tops &amp; Tees</td>\n",
       "      <td>Patty Women Cowl Neck Button Embellished Ruched Blouse Top</td>\n",
       "      <td>2022-04</td>\n",
       "      <td>39.990002</td>\n",
       "      <td>18.275431</td>\n",
       "    </tr>\n",
       "    <tr>\n",
       "      <th>2</th>\n",
       "      <td>2024-07-16 14:52:00+00:00</td>\n",
       "      <td>25.000000</td>\n",
       "      <td>10.025000</td>\n",
       "      <td>Swim</td>\n",
       "      <td>Body Glove Juniors Smoothies Skirt Rider Swim Bottom</td>\n",
       "      <td>2024-07</td>\n",
       "      <td>25.000000</td>\n",
       "      <td>14.975000</td>\n",
       "    </tr>\n",
       "    <tr>\n",
       "      <th>3</th>\n",
       "      <td>2024-07-16 14:52:00+00:00</td>\n",
       "      <td>98.080002</td>\n",
       "      <td>59.142241</td>\n",
       "      <td>Suits</td>\n",
       "      <td>Evan Picone English Rose Skirt Suit</td>\n",
       "      <td>2024-07</td>\n",
       "      <td>98.080002</td>\n",
       "      <td>38.937761</td>\n",
       "    </tr>\n",
       "    <tr>\n",
       "      <th>4</th>\n",
       "      <td>2023-11-26 12:03:00+00:00</td>\n",
       "      <td>110.000000</td>\n",
       "      <td>51.370000</td>\n",
       "      <td>Sweaters</td>\n",
       "      <td>Christopher Fischer Women's 100% Cashmere Long-Sleeve Striped Dip-Dyed Cardigan</td>\n",
       "      <td>2023-11</td>\n",
       "      <td>110.000000</td>\n",
       "      <td>58.630000</td>\n",
       "    </tr>\n",
       "  </tbody>\n",
       "</table>\n",
       "</div>"
      ]
     },
     "execution_count": 39,
     "metadata": {},
     "output_type": "execute_result"
    }
   ],
   "execution_count": 39
  },
  {
   "metadata": {
    "ExecuteTime": {
     "end_time": "2025-02-17T13:01:04.599374Z",
     "start_time": "2025-02-17T13:01:04.022001Z"
    }
   },
   "cell_type": "code",
   "source": [
    "future_rev_df = time_series_rev.drop(['product_category', 'product_name', 'sale_price', 'order_month', 'order_date'], axis=1).copy()\n",
    "future_rev_df.index = merged_orders_inventory['order_date'].dt.strftime('%Y-%m-%d')"
   ],
   "id": "216c7be7b2c009b3",
   "outputs": [],
   "execution_count": 40
  },
  {
   "metadata": {
    "ExecuteTime": {
     "end_time": "2025-02-17T13:01:04.619484Z",
     "start_time": "2025-02-17T13:01:04.615645Z"
    }
   },
   "cell_type": "code",
   "source": "future_rev_df",
   "id": "43fd769ee1b93cc9",
   "outputs": [
    {
     "data": {
      "text/plain": [
       "                 cost     revenue     income\n",
       "order_date                                  \n",
       "2022-04-30   7.485000   14.970000   7.485000\n",
       "2022-04-30  21.714571   39.990002  18.275431\n",
       "2024-07-16  10.025000   25.000000  14.975000\n",
       "2024-07-16  59.142241   98.080002  38.937761\n",
       "2023-11-26  51.370000  110.000000  58.630000\n",
       "...               ...         ...        ...\n",
       "2024-10-07  32.615339   69.989998  37.374659\n",
       "2025-01-24  16.259721   37.990002  21.730281\n",
       "2022-07-07  20.697530   31.990000  11.292470\n",
       "2023-10-10  71.569399  146.059998  74.490599\n",
       "2021-04-13  17.995501   39.990002  21.994501\n",
       "\n",
       "[181446 rows x 3 columns]"
      ],
      "text/html": [
       "<div>\n",
       "<style scoped>\n",
       "    .dataframe tbody tr th:only-of-type {\n",
       "        vertical-align: middle;\n",
       "    }\n",
       "\n",
       "    .dataframe tbody tr th {\n",
       "        vertical-align: top;\n",
       "    }\n",
       "\n",
       "    .dataframe thead th {\n",
       "        text-align: right;\n",
       "    }\n",
       "</style>\n",
       "<table border=\"1\" class=\"dataframe\">\n",
       "  <thead>\n",
       "    <tr style=\"text-align: right;\">\n",
       "      <th></th>\n",
       "      <th>cost</th>\n",
       "      <th>revenue</th>\n",
       "      <th>income</th>\n",
       "    </tr>\n",
       "    <tr>\n",
       "      <th>order_date</th>\n",
       "      <th></th>\n",
       "      <th></th>\n",
       "      <th></th>\n",
       "    </tr>\n",
       "  </thead>\n",
       "  <tbody>\n",
       "    <tr>\n",
       "      <th>2022-04-30</th>\n",
       "      <td>7.485000</td>\n",
       "      <td>14.970000</td>\n",
       "      <td>7.485000</td>\n",
       "    </tr>\n",
       "    <tr>\n",
       "      <th>2022-04-30</th>\n",
       "      <td>21.714571</td>\n",
       "      <td>39.990002</td>\n",
       "      <td>18.275431</td>\n",
       "    </tr>\n",
       "    <tr>\n",
       "      <th>2024-07-16</th>\n",
       "      <td>10.025000</td>\n",
       "      <td>25.000000</td>\n",
       "      <td>14.975000</td>\n",
       "    </tr>\n",
       "    <tr>\n",
       "      <th>2024-07-16</th>\n",
       "      <td>59.142241</td>\n",
       "      <td>98.080002</td>\n",
       "      <td>38.937761</td>\n",
       "    </tr>\n",
       "    <tr>\n",
       "      <th>2023-11-26</th>\n",
       "      <td>51.370000</td>\n",
       "      <td>110.000000</td>\n",
       "      <td>58.630000</td>\n",
       "    </tr>\n",
       "    <tr>\n",
       "      <th>...</th>\n",
       "      <td>...</td>\n",
       "      <td>...</td>\n",
       "      <td>...</td>\n",
       "    </tr>\n",
       "    <tr>\n",
       "      <th>2024-10-07</th>\n",
       "      <td>32.615339</td>\n",
       "      <td>69.989998</td>\n",
       "      <td>37.374659</td>\n",
       "    </tr>\n",
       "    <tr>\n",
       "      <th>2025-01-24</th>\n",
       "      <td>16.259721</td>\n",
       "      <td>37.990002</td>\n",
       "      <td>21.730281</td>\n",
       "    </tr>\n",
       "    <tr>\n",
       "      <th>2022-07-07</th>\n",
       "      <td>20.697530</td>\n",
       "      <td>31.990000</td>\n",
       "      <td>11.292470</td>\n",
       "    </tr>\n",
       "    <tr>\n",
       "      <th>2023-10-10</th>\n",
       "      <td>71.569399</td>\n",
       "      <td>146.059998</td>\n",
       "      <td>74.490599</td>\n",
       "    </tr>\n",
       "    <tr>\n",
       "      <th>2021-04-13</th>\n",
       "      <td>17.995501</td>\n",
       "      <td>39.990002</td>\n",
       "      <td>21.994501</td>\n",
       "    </tr>\n",
       "  </tbody>\n",
       "</table>\n",
       "<p>181446 rows × 3 columns</p>\n",
       "</div>"
      ]
     },
     "execution_count": 41,
     "metadata": {},
     "output_type": "execute_result"
    }
   ],
   "execution_count": 41
  },
  {
   "metadata": {
    "ExecuteTime": {
     "end_time": "2025-02-17T13:01:04.662380Z",
     "start_time": "2025-02-17T13:01:04.652335Z"
    }
   },
   "cell_type": "code",
   "source": [
    "unique_order_dates = future_rev_df.groupby('order_date').sum().reset_index()\n",
    "unique_order_dates.set_index('order_date', inplace=True)"
   ],
   "id": "76467c2ef775cc3c",
   "outputs": [],
   "execution_count": 42
  },
  {
   "metadata": {
    "ExecuteTime": {
     "end_time": "2025-02-17T13:26:56.594674Z",
     "start_time": "2025-02-17T13:26:56.589671Z"
    }
   },
   "cell_type": "code",
   "source": "unique_order_dates",
   "id": "1ba3dd2beb935903",
   "outputs": [
    {
     "data": {
      "text/plain": [
       "                    cost        revenue        income    income_dif\n",
       "order_date                                                         \n",
       "2019-01-10     15.450000      30.000000     14.550000           NaN\n",
       "2019-01-13     23.026330      52.110000     29.083670     14.533670\n",
       "2019-01-15     11.375000      25.000000     13.625000    -15.458670\n",
       "2019-01-17     67.843019     147.989998     80.146979     66.521979\n",
       "2019-01-19     29.306491      60.980001     31.673511    -48.473468\n",
       "...                  ...            ...           ...           ...\n",
       "2025-02-13  26742.907379   55610.920083  28868.012704  10136.851959\n",
       "2025-02-14  38536.290120   80186.470041  41650.179921  12782.167218\n",
       "2025-02-15  63451.061417  132405.080118  68954.018701  27303.838780\n",
       "2025-02-16  25824.321510   53684.180034  27859.858524 -41094.160177\n",
       "2025-02-17  24656.395177   51691.250047  27034.854870   -825.003654\n",
       "\n",
       "[2201 rows x 4 columns]"
      ],
      "text/html": [
       "<div>\n",
       "<style scoped>\n",
       "    .dataframe tbody tr th:only-of-type {\n",
       "        vertical-align: middle;\n",
       "    }\n",
       "\n",
       "    .dataframe tbody tr th {\n",
       "        vertical-align: top;\n",
       "    }\n",
       "\n",
       "    .dataframe thead th {\n",
       "        text-align: right;\n",
       "    }\n",
       "</style>\n",
       "<table border=\"1\" class=\"dataframe\">\n",
       "  <thead>\n",
       "    <tr style=\"text-align: right;\">\n",
       "      <th></th>\n",
       "      <th>cost</th>\n",
       "      <th>revenue</th>\n",
       "      <th>income</th>\n",
       "      <th>income_dif</th>\n",
       "    </tr>\n",
       "    <tr>\n",
       "      <th>order_date</th>\n",
       "      <th></th>\n",
       "      <th></th>\n",
       "      <th></th>\n",
       "      <th></th>\n",
       "    </tr>\n",
       "  </thead>\n",
       "  <tbody>\n",
       "    <tr>\n",
       "      <th>2019-01-10</th>\n",
       "      <td>15.450000</td>\n",
       "      <td>30.000000</td>\n",
       "      <td>14.550000</td>\n",
       "      <td>NaN</td>\n",
       "    </tr>\n",
       "    <tr>\n",
       "      <th>2019-01-13</th>\n",
       "      <td>23.026330</td>\n",
       "      <td>52.110000</td>\n",
       "      <td>29.083670</td>\n",
       "      <td>14.533670</td>\n",
       "    </tr>\n",
       "    <tr>\n",
       "      <th>2019-01-15</th>\n",
       "      <td>11.375000</td>\n",
       "      <td>25.000000</td>\n",
       "      <td>13.625000</td>\n",
       "      <td>-15.458670</td>\n",
       "    </tr>\n",
       "    <tr>\n",
       "      <th>2019-01-17</th>\n",
       "      <td>67.843019</td>\n",
       "      <td>147.989998</td>\n",
       "      <td>80.146979</td>\n",
       "      <td>66.521979</td>\n",
       "    </tr>\n",
       "    <tr>\n",
       "      <th>2019-01-19</th>\n",
       "      <td>29.306491</td>\n",
       "      <td>60.980001</td>\n",
       "      <td>31.673511</td>\n",
       "      <td>-48.473468</td>\n",
       "    </tr>\n",
       "    <tr>\n",
       "      <th>...</th>\n",
       "      <td>...</td>\n",
       "      <td>...</td>\n",
       "      <td>...</td>\n",
       "      <td>...</td>\n",
       "    </tr>\n",
       "    <tr>\n",
       "      <th>2025-02-13</th>\n",
       "      <td>26742.907379</td>\n",
       "      <td>55610.920083</td>\n",
       "      <td>28868.012704</td>\n",
       "      <td>10136.851959</td>\n",
       "    </tr>\n",
       "    <tr>\n",
       "      <th>2025-02-14</th>\n",
       "      <td>38536.290120</td>\n",
       "      <td>80186.470041</td>\n",
       "      <td>41650.179921</td>\n",
       "      <td>12782.167218</td>\n",
       "    </tr>\n",
       "    <tr>\n",
       "      <th>2025-02-15</th>\n",
       "      <td>63451.061417</td>\n",
       "      <td>132405.080118</td>\n",
       "      <td>68954.018701</td>\n",
       "      <td>27303.838780</td>\n",
       "    </tr>\n",
       "    <tr>\n",
       "      <th>2025-02-16</th>\n",
       "      <td>25824.321510</td>\n",
       "      <td>53684.180034</td>\n",
       "      <td>27859.858524</td>\n",
       "      <td>-41094.160177</td>\n",
       "    </tr>\n",
       "    <tr>\n",
       "      <th>2025-02-17</th>\n",
       "      <td>24656.395177</td>\n",
       "      <td>51691.250047</td>\n",
       "      <td>27034.854870</td>\n",
       "      <td>-825.003654</td>\n",
       "    </tr>\n",
       "  </tbody>\n",
       "</table>\n",
       "<p>2201 rows × 4 columns</p>\n",
       "</div>"
      ]
     },
     "execution_count": 58,
     "metadata": {},
     "output_type": "execute_result"
    }
   ],
   "execution_count": 58
  },
  {
   "metadata": {},
   "cell_type": "markdown",
   "source": [
    "$$\n",
    "\\text{Future income prediction model, per day, there's some missing days in df that can cause some miss predictions}\n",
    "$$\n",
    "$$\n",
    "\\text{Check if the df is good for ARIMA model p < 0.05}\n",
    "$$"
   ],
   "id": "5c7b075f9e78cfa5"
  },
  {
   "metadata": {
    "ExecuteTime": {
     "end_time": "2025-02-17T13:14:41.664618Z",
     "start_time": "2025-02-17T13:14:41.626045Z"
    }
   },
   "cell_type": "code",
   "source": [
    "import tensorflow as tf\n",
    "from statsmodels.tsa.stattools import adfuller\n",
    "\n",
    "adf = adfuller(unique_order_dates['income'])\n",
    "print(f'ADF stats: {adf[0]}')\n",
    "print(f'p-value: {adf[1]}')"
   ],
   "id": "20ccfcf238aef886",
   "outputs": [
    {
     "name": "stdout",
     "output_type": "stream",
     "text": [
      "ADF stats: 2.1698366585783777\n",
      "p-value: 0.9988567553596375\n"
     ]
    }
   ],
   "execution_count": 45
  },
  {
   "metadata": {},
   "cell_type": "markdown",
   "source": [
    "$$\n",
    "y'_t = y_t - y_{t-1}\n",
    "$$"
   ],
   "id": "3cb46d67c15f16d3"
  },
  {
   "metadata": {
    "ExecuteTime": {
     "end_time": "2025-02-17T13:20:08.104256Z",
     "start_time": "2025-02-17T13:20:08.101477Z"
    }
   },
   "cell_type": "code",
   "source": [
    "unique_order_dates['income_dif'] = unique_order_dates['income'].diff()\n",
    "diff_series = unique_order_dates['income_dif'].dropna()"
   ],
   "id": "253db2bbcb8948be",
   "outputs": [],
   "execution_count": 51
  },
  {
   "metadata": {
    "ExecuteTime": {
     "end_time": "2025-02-17T13:18:09.860043Z",
     "start_time": "2025-02-17T13:18:09.856511Z"
    }
   },
   "cell_type": "code",
   "source": "diff_series.head()",
   "id": "8611990032718734",
   "outputs": [
    {
     "data": {
      "text/plain": [
       "order_date\n",
       "2019-01-13    14.533670\n",
       "2019-01-15   -15.458670\n",
       "2019-01-17    66.521979\n",
       "2019-01-19   -48.473468\n",
       "2019-01-21   -18.657001\n",
       "Name: income_dif, dtype: float64"
      ]
     },
     "execution_count": 48,
     "metadata": {},
     "output_type": "execute_result"
    }
   ],
   "execution_count": 48
  },
  {
   "metadata": {
    "ExecuteTime": {
     "end_time": "2025-02-17T13:19:14.915437Z",
     "start_time": "2025-02-17T13:19:14.890409Z"
    }
   },
   "cell_type": "code",
   "source": [
    "adf_diff = adfuller(diff_series)\n",
    "print(f'ADF stats: {adf_diff[0]}')\n",
    "print(f'p-value: {adf_diff[1]}')"
   ],
   "id": "1a570b67784abbab",
   "outputs": [
    {
     "name": "stdout",
     "output_type": "stream",
     "text": [
      "ADF stats: 5.803437025014467\n",
      "p-value: 1.0\n"
     ]
    }
   ],
   "execution_count": 50
  },
  {
   "metadata": {
    "ExecuteTime": {
     "end_time": "2025-02-17T13:57:23.809652Z",
     "start_time": "2025-02-17T13:57:23.806904Z"
    }
   },
   "cell_type": "code",
   "source": [
    "from prophet import Prophet\n",
    "\n",
    "f_income = unique_order_dates.reset_index()[['order_date', 'income']].copy()"
   ],
   "id": "829efcd7be50224e",
   "outputs": [],
   "execution_count": 136
  },
  {
   "metadata": {
    "ExecuteTime": {
     "end_time": "2025-02-17T13:57:24.215780Z",
     "start_time": "2025-02-17T13:57:24.213943Z"
    }
   },
   "cell_type": "code",
   "source": "f_income.columns = ['ds', 'y']",
   "id": "fe8451c8d5ffcd04",
   "outputs": [],
   "execution_count": 137
  },
  {
   "metadata": {
    "ExecuteTime": {
     "end_time": "2025-02-17T13:57:24.632371Z",
     "start_time": "2025-02-17T13:57:24.628484Z"
    }
   },
   "cell_type": "code",
   "source": "f_income.info()",
   "id": "65fa4b264befebd5",
   "outputs": [
    {
     "name": "stdout",
     "output_type": "stream",
     "text": [
      "<class 'pandas.core.frame.DataFrame'>\n",
      "RangeIndex: 2201 entries, 0 to 2200\n",
      "Data columns (total 2 columns):\n",
      " #   Column  Non-Null Count  Dtype  \n",
      "---  ------  --------------  -----  \n",
      " 0   ds      2201 non-null   object \n",
      " 1   y       2201 non-null   float64\n",
      "dtypes: float64(1), object(1)\n",
      "memory usage: 34.5+ KB\n"
     ]
    }
   ],
   "execution_count": 138
  },
  {
   "metadata": {
    "ExecuteTime": {
     "end_time": "2025-02-17T13:58:35.205069Z",
     "start_time": "2025-02-17T13:58:34.708383Z"
    }
   },
   "cell_type": "code",
   "source": [
    "model = Prophet(\n",
    "    changepoint_prior_scale=0.5,\n",
    "    seasonality_mode='multiplicative',\n",
    "    yearly_seasonality=True,\n",
    "    weekly_seasonality=True,\n",
    "    daily_seasonality=True\n",
    ")\n",
    "\n",
    "model.fit(f_income)"
   ],
   "id": "73cc331e025167b1",
   "outputs": [
    {
     "name": "stderr",
     "output_type": "stream",
     "text": [
      "13:58:34 - cmdstanpy - INFO - Chain [1] start processing\n",
      "13:58:35 - cmdstanpy - INFO - Chain [1] done processing\n"
     ]
    },
    {
     "data": {
      "text/plain": [
       "<prophet.forecaster.Prophet at 0x7f7c15c06590>"
      ]
     },
     "execution_count": 146,
     "metadata": {},
     "output_type": "execute_result"
    }
   ],
   "execution_count": 146
  },
  {
   "metadata": {
    "ExecuteTime": {
     "end_time": "2025-02-17T13:58:36.056818Z",
     "start_time": "2025-02-17T13:58:35.919303Z"
    }
   },
   "cell_type": "code",
   "source": [
    "future_dates = model.make_future_dataframe(periods=30, freq='D')\n",
    "forecast = model.predict(future_dates)"
   ],
   "id": "9c82d332ae65ed25",
   "outputs": [],
   "execution_count": 147
  },
  {
   "metadata": {
    "ExecuteTime": {
     "end_time": "2025-02-17T13:58:36.583290Z",
     "start_time": "2025-02-17T13:58:36.493805Z"
    }
   },
   "cell_type": "code",
   "source": [
    "model.plot(forecast)\n",
    "plt.title(\"Prophet Forecast for Income\")\n",
    "plt.xlabel(\"Date\")\n",
    "plt.ylabel(\"Income\")\n",
    "plt.show()"
   ],
   "id": "72da07aede380b89",
   "outputs": [
    {
     "data": {
      "text/plain": [
       "<Figure size 1000x600 with 1 Axes>"
      ],
      "image/png": "[encoded data removed]"
     },
     "metadata": {},
     "output_type": "display_data"
    }
   ],
   "execution_count": 148
  },
  {
   "metadata": {
    "ExecuteTime": {
     "end_time": "2025-02-17T13:58:38.136666Z",
     "start_time": "2025-02-17T13:58:37.926526Z"
    }
   },
   "cell_type": "code",
   "source": [
    "model.plot_components(forecast)\n",
    "plt.show()"
   ],
   "id": "ba5d7b9076c6a669",
   "outputs": [
    {
     "data": {
      "text/plain": [
       "<Figure size 900x1200 with 4 Axes>"
      ],
      "image/png": "[encoded data removed]"
     },
     "metadata": {},
     "output_type": "display_data"
    }
   ],
   "execution_count": 149
  },
  {
   "metadata": {
    "ExecuteTime": {
     "end_time": "2025-02-17T13:58:39.656694Z",
     "start_time": "2025-02-17T13:58:39.652752Z"
    }
   },
   "cell_type": "code",
   "source": "print(forecast[['ds', 'yhat', 'yhat_lower', 'yhat_upper']].tail(40))",
   "id": "d041a9e553f8866e",
   "outputs": [
    {
     "name": "stdout",
     "output_type": "stream",
     "text": [
      "             ds          yhat    yhat_lower    yhat_upper\n",
      "2191 2025-02-08  20796.088776  19245.353011  22434.104020\n",
      "2192 2025-02-09  20885.038804  19336.512621  22566.713603\n",
      "2193 2025-02-10  21911.465792  20294.689876  23583.860136\n",
      "2194 2025-02-11  22862.633467  21231.601358  24554.877240\n",
      "2195 2025-02-12  24054.609264  22559.391160  25618.995797\n",
      "2196 2025-02-13  25335.088270  23627.050101  27044.016009\n",
      "2197 2025-02-14  26649.770055  25053.545221  28141.987424\n",
      "2198 2025-02-15  28147.084362  26504.766823  29697.669832\n",
      "2199 2025-02-16  27797.344447  26287.582757  29433.556867\n",
      "2200 2025-02-17  28285.538097  26637.254790  29902.421797\n",
      "2201 2025-02-18  28591.860012  26908.275080  30253.997308\n",
      "2202 2025-02-19  29046.204251  27331.733766  30596.101242\n",
      "2203 2025-02-20  29505.720432  27873.279571  31121.904595\n",
      "2204 2025-02-21  29928.865158  28342.091851  31565.248344\n",
      "2205 2025-02-22  30481.286408  28898.441405  32149.074482\n",
      "2206 2025-02-23  29121.825752  27575.995426  30769.234643\n",
      "2207 2025-02-24  28590.048285  26971.953715  30187.668933\n",
      "2208 2025-02-25  27870.195993  26300.527795  29531.133665\n",
      "2209 2025-02-26  27315.026505  25620.277449  29024.795849\n",
      "2210 2025-02-27  26797.867602  25088.668506  28537.610193\n",
      "2211 2025-02-28  26294.163511  24732.465209  27987.121158\n",
      "2212 2025-03-01  25988.397477  24341.489477  27585.338564\n",
      "2213 2025-03-02  23826.884983  22196.538834  25417.864578\n",
      "2214 2025-03-03  22600.049349  21116.626193  24191.505080\n",
      "2215 2025-03-04  21289.867663  19637.736511  22958.503690\n",
      "2216 2025-03-05  20263.190839  18677.704348  21773.388448\n",
      "2217 2025-03-06  19398.491812  17803.003737  21039.705816\n",
      "2218 2025-03-07  18675.157795  17007.534151  20370.786133\n",
      "2219 2025-03-08  18281.751762  16688.878991  19959.152560\n",
      "2220 2025-03-09  16135.939685  14377.743352  17761.911584\n",
      "2221 2025-03-10  15061.888534  13355.146841  16721.187968\n",
      "2222 2025-03-11  14021.605884  12421.701632  15748.061054\n",
      "2223 2025-03-12  13378.156695  11778.575539  15112.945036\n",
      "2224 2025-03-13  12997.524485  11397.175099  14672.718202\n",
      "2225 2025-03-14  12846.062203  11227.848560  14503.722305\n",
      "2226 2025-03-15  13100.488218  11317.472909  14668.905571\n",
      "2227 2025-03-16  11635.316187   9956.143116  13286.121221\n",
      "2228 2025-03-17  11295.707855   9603.867364  12894.638993\n",
      "2229 2025-03-18  11012.994207   9381.216563  12538.663991\n",
      "2230 2025-03-19  11138.025177   9491.666223  12808.221240\n"
     ]
    }
   ],
   "execution_count": 150
  },
  {
   "metadata": {
    "ExecuteTime": {
     "end_time": "2025-02-17T13:58:40.562432Z",
     "start_time": "2025-02-17T13:58:40.557501Z"
    }
   },
   "cell_type": "code",
   "source": "forecast[['ds', 'yhat']].tail(40)",
   "id": "fa6dc428a9ac13ff",
   "outputs": [
    {
     "data": {
      "text/plain": [
       "             ds          yhat\n",
       "2191 2025-02-08  20796.088776\n",
       "2192 2025-02-09  20885.038804\n",
       "2193 2025-02-10  21911.465792\n",
       "2194 2025-02-11  22862.633467\n",
       "2195 2025-02-12  24054.609264\n",
       "2196 2025-02-13  25335.088270\n",
       "2197 2025-02-14  26649.770055\n",
       "2198 2025-02-15  28147.084362\n",
       "2199 2025-02-16  27797.344447\n",
       "2200 2025-02-17  28285.538097\n",
       "2201 2025-02-18  28591.860012\n",
       "2202 2025-02-19  29046.204251\n",
       "2203 2025-02-20  29505.720432\n",
       "2204 2025-02-21  29928.865158\n",
       "2205 2025-02-22  30481.286408\n",
       "2206 2025-02-23  29121.825752\n",
       "2207 2025-02-24  28590.048285\n",
       "2208 2025-02-25  27870.195993\n",
       "2209 2025-02-26  27315.026505\n",
       "2210 2025-02-27  26797.867602\n",
       "2211 2025-02-28  26294.163511\n",
       "2212 2025-03-01  25988.397477\n",
       "2213 2025-03-02  23826.884983\n",
       "2214 2025-03-03  22600.049349\n",
       "2215 2025-03-04  21289.867663\n",
       "2216 2025-03-05  20263.190839\n",
       "2217 2025-03-06  19398.491812\n",
       "2218 2025-03-07  18675.157795\n",
       "2219 2025-03-08  18281.751762\n",
       "2220 2025-03-09  16135.939685\n",
       "2221 2025-03-10  15061.888534\n",
       "2222 2025-03-11  14021.605884\n",
       "2223 2025-03-12  13378.156695\n",
       "2224 2025-03-13  12997.524485\n",
       "2225 2025-03-14  12846.062203\n",
       "2226 2025-03-15  13100.488218\n",
       "2227 2025-03-16  11635.316187\n",
       "2228 2025-03-17  11295.707855\n",
       "2229 2025-03-18  11012.994207\n",
       "2230 2025-03-19  11138.025177"
      ],
      "text/html": [
       "<div>\n",
       "<style scoped>\n",
       "    .dataframe tbody tr th:only-of-type {\n",
       "        vertical-align: middle;\n",
       "    }\n",
       "\n",
       "    .dataframe tbody tr th {\n",
       "        vertical-align: top;\n",
       "    }\n",
       "\n",
       "    .dataframe thead th {\n",
       "        text-align: right;\n",
       "    }\n",
       "</style>\n",
       "<table border=\"1\" class=\"dataframe\">\n",
       "  <thead>\n",
       "    <tr style=\"text-align: right;\">\n",
       "      <th></th>\n",
       "      <th>ds</th>\n",
       "      <th>yhat</th>\n",
       "    </tr>\n",
       "  </thead>\n",
       "  <tbody>\n",
       "    <tr>\n",
       "      <th>2191</th>\n",
       "      <td>2025-02-08</td>\n",
       "      <td>20796.088776</td>\n",
       "    </tr>\n",
       "    <tr>\n",
       "      <th>2192</th>\n",
       "      <td>2025-02-09</td>\n",
       "      <td>20885.038804</td>\n",
       "    </tr>\n",
       "    <tr>\n",
       "      <th>2193</th>\n",
       "      <td>2025-02-10</td>\n",
       "      <td>21911.465792</td>\n",
       "    </tr>\n",
       "    <tr>\n",
       "      <th>2194</th>\n",
       "      <td>2025-02-11</td>\n",
       "      <td>22862.633467</td>\n",
       "    </tr>\n",
       "    <tr>\n",
       "      <th>2195</th>\n",
       "      <td>2025-02-12</td>\n",
       "      <td>24054.609264</td>\n",
       "    </tr>\n",
       "    <tr>\n",
       "      <th>2196</th>\n",
       "      <td>2025-02-13</td>\n",
       "      <td>25335.088270</td>\n",
       "    </tr>\n",
       "    <tr>\n",
       "      <th>2197</th>\n",
       "      <td>2025-02-14</td>\n",
       "      <td>26649.770055</td>\n",
       "    </tr>\n",
       "    <tr>\n",
       "      <th>2198</th>\n",
       "      <td>2025-02-15</td>\n",
       "      <td>28147.084362</td>\n",
       "    </tr>\n",
       "    <tr>\n",
       "      <th>2199</th>\n",
       "      <td>2025-02-16</td>\n",
       "      <td>27797.344447</td>\n",
       "    </tr>\n",
       "    <tr>\n",
       "      <th>2200</th>\n",
       "      <td>2025-02-17</td>\n",
       "      <td>28285.538097</td>\n",
       "    </tr>\n",
       "    <tr>\n",
       "      <th>2201</th>\n",
       "      <td>2025-02-18</td>\n",
       "      <td>28591.860012</td>\n",
       "    </tr>\n",
       "    <tr>\n",
       "      <th>2202</th>\n",
       "      <td>2025-02-19</td>\n",
       "      <td>29046.204251</td>\n",
       "    </tr>\n",
       "    <tr>\n",
       "      <th>2203</th>\n",
       "      <td>2025-02-20</td>\n",
       "      <td>29505.720432</td>\n",
       "    </tr>\n",
       "    <tr>\n",
       "      <th>2204</th>\n",
       "      <td>2025-02-21</td>\n",
       "      <td>29928.865158</td>\n",
       "    </tr>\n",
       "    <tr>\n",
       "      <th>2205</th>\n",
       "      <td>2025-02-22</td>\n",
       "      <td>30481.286408</td>\n",
       "    </tr>\n",
       "    <tr>\n",
       "      <th>2206</th>\n",
       "      <td>2025-02-23</td>\n",
       "      <td>29121.825752</td>\n",
       "    </tr>\n",
       "    <tr>\n",
       "      <th>2207</th>\n",
       "      <td>2025-02-24</td>\n",
       "      <td>28590.048285</td>\n",
       "    </tr>\n",
       "    <tr>\n",
       "      <th>2208</th>\n",
       "      <td>2025-02-25</td>\n",
       "      <td>27870.195993</td>\n",
       "    </tr>\n",
       "    <tr>\n",
       "      <th>2209</th>\n",
       "      <td>2025-02-26</td>\n",
       "      <td>27315.026505</td>\n",
       "    </tr>\n",
       "    <tr>\n",
       "      <th>2210</th>\n",
       "      <td>2025-02-27</td>\n",
       "      <td>26797.867602</td>\n",
       "    </tr>\n",
       "    <tr>\n",
       "      <th>2211</th>\n",
       "      <td>2025-02-28</td>\n",
       "      <td>26294.163511</td>\n",
       "    </tr>\n",
       "    <tr>\n",
       "      <th>2212</th>\n",
       "      <td>2025-03-01</td>\n",
       "      <td>25988.397477</td>\n",
       "    </tr>\n",
       "    <tr>\n",
       "      <th>2213</th>\n",
       "      <td>2025-03-02</td>\n",
       "      <td>23826.884983</td>\n",
       "    </tr>\n",
       "    <tr>\n",
       "      <th>2214</th>\n",
       "      <td>2025-03-03</td>\n",
       "      <td>22600.049349</td>\n",
       "    </tr>\n",
       "    <tr>\n",
       "      <th>2215</th>\n",
       "      <td>2025-03-04</td>\n",
       "      <td>21289.867663</td>\n",
       "    </tr>\n",
       "    <tr>\n",
       "      <th>2216</th>\n",
       "      <td>2025-03-05</td>\n",
       "      <td>20263.190839</td>\n",
       "    </tr>\n",
       "    <tr>\n",
       "      <th>2217</th>\n",
       "      <td>2025-03-06</td>\n",
       "      <td>19398.491812</td>\n",
       "    </tr>\n",
       "    <tr>\n",
       "      <th>2218</th>\n",
       "      <td>2025-03-07</td>\n",
       "      <td>18675.157795</td>\n",
       "    </tr>\n",
       "    <tr>\n",
       "      <th>2219</th>\n",
       "      <td>2025-03-08</td>\n",
       "      <td>18281.751762</td>\n",
       "    </tr>\n",
       "    <tr>\n",
       "      <th>2220</th>\n",
       "      <td>2025-03-09</td>\n",
       "      <td>16135.939685</td>\n",
       "    </tr>\n",
       "    <tr>\n",
       "      <th>2221</th>\n",
       "      <td>2025-03-10</td>\n",
       "      <td>15061.888534</td>\n",
       "    </tr>\n",
       "    <tr>\n",
       "      <th>2222</th>\n",
       "      <td>2025-03-11</td>\n",
       "      <td>14021.605884</td>\n",
       "    </tr>\n",
       "    <tr>\n",
       "      <th>2223</th>\n",
       "      <td>2025-03-12</td>\n",
       "      <td>13378.156695</td>\n",
       "    </tr>\n",
       "    <tr>\n",
       "      <th>2224</th>\n",
       "      <td>2025-03-13</td>\n",
       "      <td>12997.524485</td>\n",
       "    </tr>\n",
       "    <tr>\n",
       "      <th>2225</th>\n",
       "      <td>2025-03-14</td>\n",
       "      <td>12846.062203</td>\n",
       "    </tr>\n",
       "    <tr>\n",
       "      <th>2226</th>\n",
       "      <td>2025-03-15</td>\n",
       "      <td>13100.488218</td>\n",
       "    </tr>\n",
       "    <tr>\n",
       "      <th>2227</th>\n",
       "      <td>2025-03-16</td>\n",
       "      <td>11635.316187</td>\n",
       "    </tr>\n",
       "    <tr>\n",
       "      <th>2228</th>\n",
       "      <td>2025-03-17</td>\n",
       "      <td>11295.707855</td>\n",
       "    </tr>\n",
       "    <tr>\n",
       "      <th>2229</th>\n",
       "      <td>2025-03-18</td>\n",
       "      <td>11012.994207</td>\n",
       "    </tr>\n",
       "    <tr>\n",
       "      <th>2230</th>\n",
       "      <td>2025-03-19</td>\n",
       "      <td>11138.025177</td>\n",
       "    </tr>\n",
       "  </tbody>\n",
       "</table>\n",
       "</div>"
      ]
     },
     "execution_count": 151,
     "metadata": {},
     "output_type": "execute_result"
    }
   ],
   "execution_count": 151
  },
  {
   "metadata": {
    "ExecuteTime": {
     "end_time": "2025-02-17T13:58:41.461882Z",
     "start_time": "2025-02-17T13:58:41.458914Z"
    }
   },
   "cell_type": "code",
   "source": "unique_order_dates['income'].tail(10)",
   "id": "ecd4489ad801f171",
   "outputs": [
    {
     "data": {
      "text/plain": [
       "order_date\n",
       "2025-02-08    13120.955638\n",
       "2025-02-09    13894.599354\n",
       "2025-02-10    15750.211534\n",
       "2025-02-11    15450.976243\n",
       "2025-02-12    18731.160744\n",
       "2025-02-13    28868.012704\n",
       "2025-02-14    41650.179921\n",
       "2025-02-15    68954.018701\n",
       "2025-02-16    27859.858524\n",
       "2025-02-17    27034.854870\n",
       "Name: income, dtype: float64"
      ]
     },
     "execution_count": 152,
     "metadata": {},
     "output_type": "execute_result"
    }
   ],
   "execution_count": 152
  },
  {
   "metadata": {
    "ExecuteTime": {
     "end_time": "2025-02-17T14:18:27.131514Z",
     "start_time": "2025-02-17T14:18:27.125008Z"
    }
   },
   "cell_type": "code",
   "source": [
    "f_month_inc = unique_order_dates.reset_index().drop(['cost', 'revenue', 'income_dif'], axis=1).copy()\n",
    "f_month_inc"
   ],
   "id": "2de7ca0140df6b46",
   "outputs": [
    {
     "data": {
      "text/plain": [
       "      order_date        income\n",
       "0     2019-01-10     14.550000\n",
       "1     2019-01-13     29.083670\n",
       "2     2019-01-15     13.625000\n",
       "3     2019-01-17     80.146979\n",
       "4     2019-01-19     31.673511\n",
       "...          ...           ...\n",
       "2196  2025-02-13  28868.012704\n",
       "2197  2025-02-14  41650.179921\n",
       "2198  2025-02-15  68954.018701\n",
       "2199  2025-02-16  27859.858524\n",
       "2200  2025-02-17  27034.854870\n",
       "\n",
       "[2201 rows x 2 columns]"
      ],
      "text/html": [
       "<div>\n",
       "<style scoped>\n",
       "    .dataframe tbody tr th:only-of-type {\n",
       "        vertical-align: middle;\n",
       "    }\n",
       "\n",
       "    .dataframe tbody tr th {\n",
       "        vertical-align: top;\n",
       "    }\n",
       "\n",
       "    .dataframe thead th {\n",
       "        text-align: right;\n",
       "    }\n",
       "</style>\n",
       "<table border=\"1\" class=\"dataframe\">\n",
       "  <thead>\n",
       "    <tr style=\"text-align: right;\">\n",
       "      <th></th>\n",
       "      <th>order_date</th>\n",
       "      <th>income</th>\n",
       "    </tr>\n",
       "  </thead>\n",
       "  <tbody>\n",
       "    <tr>\n",
       "      <th>0</th>\n",
       "      <td>2019-01-10</td>\n",
       "      <td>14.550000</td>\n",
       "    </tr>\n",
       "    <tr>\n",
       "      <th>1</th>\n",
       "      <td>2019-01-13</td>\n",
       "      <td>29.083670</td>\n",
       "    </tr>\n",
       "    <tr>\n",
       "      <th>2</th>\n",
       "      <td>2019-01-15</td>\n",
       "      <td>13.625000</td>\n",
       "    </tr>\n",
       "    <tr>\n",
       "      <th>3</th>\n",
       "      <td>2019-01-17</td>\n",
       "      <td>80.146979</td>\n",
       "    </tr>\n",
       "    <tr>\n",
       "      <th>4</th>\n",
       "      <td>2019-01-19</td>\n",
       "      <td>31.673511</td>\n",
       "    </tr>\n",
       "    <tr>\n",
       "      <th>...</th>\n",
       "      <td>...</td>\n",
       "      <td>...</td>\n",
       "    </tr>\n",
       "    <tr>\n",
       "      <th>2196</th>\n",
       "      <td>2025-02-13</td>\n",
       "      <td>28868.012704</td>\n",
       "    </tr>\n",
       "    <tr>\n",
       "      <th>2197</th>\n",
       "      <td>2025-02-14</td>\n",
       "      <td>41650.179921</td>\n",
       "    </tr>\n",
       "    <tr>\n",
       "      <th>2198</th>\n",
       "      <td>2025-02-15</td>\n",
       "      <td>68954.018701</td>\n",
       "    </tr>\n",
       "    <tr>\n",
       "      <th>2199</th>\n",
       "      <td>2025-02-16</td>\n",
       "      <td>27859.858524</td>\n",
       "    </tr>\n",
       "    <tr>\n",
       "      <th>2200</th>\n",
       "      <td>2025-02-17</td>\n",
       "      <td>27034.854870</td>\n",
       "    </tr>\n",
       "  </tbody>\n",
       "</table>\n",
       "<p>2201 rows × 2 columns</p>\n",
       "</div>"
      ]
     },
     "execution_count": 184,
     "metadata": {},
     "output_type": "execute_result"
    }
   ],
   "execution_count": 184
  },
  {
   "metadata": {
    "ExecuteTime": {
     "end_time": "2025-02-17T14:19:04.022204Z",
     "start_time": "2025-02-17T14:19:04.015509Z"
    }
   },
   "cell_type": "code",
   "source": [
    "f_month_inc.columns = ['ds','y']\n",
    "f_month_inc['ds'] = pd.to_datetime(f_month_inc['ds'], errors='coerce')\n",
    "f_month_inc['ds'] = f_month_inc['ds'].dt.to_period('M').dt.to_timestamp()\n",
    "f_month_inc = f_month_inc.groupby('ds')['y'].sum().reset_index()\n",
    "# f_month_inc['ds'] = f_month_inc['ds'].dt.strftime('%Y-%m')\n",
    "\n",
    "f_month_inc"
   ],
   "id": "b32ba37df4eae8d5",
   "outputs": [
    {
     "data": {
      "text/plain": [
       "           ds              y\n",
       "0  2019-01-01     585.040690\n",
       "1  2019-02-01     534.652898\n",
       "2  2019-03-01    2042.365285\n",
       "3  2019-04-01    3010.335063\n",
       "4  2019-05-01    4372.607501\n",
       "..        ...            ...\n",
       "69 2024-10-01  220117.200969\n",
       "70 2024-11-01  242176.171203\n",
       "71 2024-12-01  270111.468634\n",
       "72 2025-01-01  324615.727164\n",
       "73 2025-02-01  362678.595063\n",
       "\n",
       "[74 rows x 2 columns]"
      ],
      "text/html": [
       "<div>\n",
       "<style scoped>\n",
       "    .dataframe tbody tr th:only-of-type {\n",
       "        vertical-align: middle;\n",
       "    }\n",
       "\n",
       "    .dataframe tbody tr th {\n",
       "        vertical-align: top;\n",
       "    }\n",
       "\n",
       "    .dataframe thead th {\n",
       "        text-align: right;\n",
       "    }\n",
       "</style>\n",
       "<table border=\"1\" class=\"dataframe\">\n",
       "  <thead>\n",
       "    <tr style=\"text-align: right;\">\n",
       "      <th></th>\n",
       "      <th>ds</th>\n",
       "      <th>y</th>\n",
       "    </tr>\n",
       "  </thead>\n",
       "  <tbody>\n",
       "    <tr>\n",
       "      <th>0</th>\n",
       "      <td>2019-01-01</td>\n",
       "      <td>585.040690</td>\n",
       "    </tr>\n",
       "    <tr>\n",
       "      <th>1</th>\n",
       "      <td>2019-02-01</td>\n",
       "      <td>534.652898</td>\n",
       "    </tr>\n",
       "    <tr>\n",
       "      <th>2</th>\n",
       "      <td>2019-03-01</td>\n",
       "      <td>2042.365285</td>\n",
       "    </tr>\n",
       "    <tr>\n",
       "      <th>3</th>\n",
       "      <td>2019-04-01</td>\n",
       "      <td>3010.335063</td>\n",
       "    </tr>\n",
       "    <tr>\n",
       "      <th>4</th>\n",
       "      <td>2019-05-01</td>\n",
       "      <td>4372.607501</td>\n",
       "    </tr>\n",
       "    <tr>\n",
       "      <th>...</th>\n",
       "      <td>...</td>\n",
       "      <td>...</td>\n",
       "    </tr>\n",
       "    <tr>\n",
       "      <th>69</th>\n",
       "      <td>2024-10-01</td>\n",
       "      <td>220117.200969</td>\n",
       "    </tr>\n",
       "    <tr>\n",
       "      <th>70</th>\n",
       "      <td>2024-11-01</td>\n",
       "      <td>242176.171203</td>\n",
       "    </tr>\n",
       "    <tr>\n",
       "      <th>71</th>\n",
       "      <td>2024-12-01</td>\n",
       "      <td>270111.468634</td>\n",
       "    </tr>\n",
       "    <tr>\n",
       "      <th>72</th>\n",
       "      <td>2025-01-01</td>\n",
       "      <td>324615.727164</td>\n",
       "    </tr>\n",
       "    <tr>\n",
       "      <th>73</th>\n",
       "      <td>2025-02-01</td>\n",
       "      <td>362678.595063</td>\n",
       "    </tr>\n",
       "  </tbody>\n",
       "</table>\n",
       "<p>74 rows × 2 columns</p>\n",
       "</div>"
      ]
     },
     "execution_count": 186,
     "metadata": {},
     "output_type": "execute_result"
    }
   ],
   "execution_count": 186
  },
  {
   "metadata": {
    "ExecuteTime": {
     "end_time": "2025-02-17T14:19:08.552054Z",
     "start_time": "2025-02-17T14:19:08.317722Z"
    }
   },
   "cell_type": "code",
   "source": [
    "month_model = Prophet(\n",
    "    changepoint_prior_scale=0.3,\n",
    "    seasonality_mode='multiplicative'\n",
    ")\n",
    "\n",
    "month_model.fit(f_month_inc)"
   ],
   "id": "2961820dc4eaad26",
   "outputs": [
    {
     "name": "stderr",
     "output_type": "stream",
     "text": [
      "14:19:08 - cmdstanpy - INFO - Chain [1] start processing\n",
      "14:19:08 - cmdstanpy - INFO - Chain [1] done processing\n"
     ]
    },
    {
     "data": {
      "text/plain": [
       "<prophet.forecaster.Prophet at 0x7f7c15302210>"
      ]
     },
     "execution_count": 187,
     "metadata": {},
     "output_type": "execute_result"
    }
   ],
   "execution_count": 187
  },
  {
   "metadata": {
    "ExecuteTime": {
     "end_time": "2025-02-17T14:19:09.726747Z",
     "start_time": "2025-02-17T14:19:09.705345Z"
    }
   },
   "cell_type": "code",
   "source": [
    "month_df = month_model.make_future_dataframe(periods=10, freq='MS')\n",
    "month_forecast = month_model.predict(month_df)"
   ],
   "id": "76ab69bab88e3289",
   "outputs": [],
   "execution_count": 188
  },
  {
   "metadata": {
    "ExecuteTime": {
     "end_time": "2025-02-17T14:19:12.148723Z",
     "start_time": "2025-02-17T14:19:12.063915Z"
    }
   },
   "cell_type": "code",
   "source": [
    "month_model.plot(month_forecast)\n",
    "plt.title(\"Prophet Forecast for Income\")\n",
    "plt.xlabel(\"Date\")\n",
    "plt.ylabel(\"Income\")\n",
    "plt.show()"
   ],
   "id": "164aac5b78ac4031",
   "outputs": [
    {
     "data": {
      "text/plain": [
       "<Figure size 1000x600 with 1 Axes>"
      ],
      "image/png": "[encoded data removed]"
     },
     "metadata": {},
     "output_type": "display_data"
    }
   ],
   "execution_count": 189
  },
  {
   "metadata": {
    "ExecuteTime": {
     "end_time": "2025-02-17T14:21:24.884133Z",
     "start_time": "2025-02-17T14:21:24.879222Z"
    }
   },
   "cell_type": "code",
   "source": "month_forecast[['ds','yhat_lower', 'yhat_upper', 'yhat']].tail(20)",
   "id": "9d43834de4065826",
   "outputs": [
    {
     "data": {
      "text/plain": [
       "           ds     yhat_lower     yhat_upper           yhat\n",
       "64 2024-05-01  159498.988741  164887.652512  162331.631212\n",
       "65 2024-06-01  164612.700571  170043.810174  167328.862651\n",
       "66 2024-07-01  177697.969569  182838.221502  180222.641397\n",
       "67 2024-08-01  191559.984356  197075.243387  194470.601696\n",
       "68 2024-09-01  190478.368429  195760.545924  193132.217435\n",
       "69 2024-10-01  218926.755842  224028.897425  221432.624407\n",
       "70 2024-11-01  239369.560562  244730.876901  242015.067938\n",
       "71 2024-12-01  267177.938197  272473.582951  269675.579435\n",
       "72 2025-01-01  320541.925318  326024.449127  323264.706522\n",
       "73 2025-02-01  358552.497508  363840.918745  361236.508630\n",
       "74 2025-03-01  284222.474869  289748.872413  286944.483012\n",
       "75 2025-04-01  278297.440079  287355.388966  282874.601363\n",
       "76 2025-05-01  291915.393520  308518.126047  300426.624968\n",
       "77 2025-06-01  275105.254713  299913.120284  288173.357846\n",
       "78 2025-07-01  284606.864910  319018.936825  301996.968529\n",
       "79 2025-08-01  295569.628244  345446.566327  321152.119239\n",
       "80 2025-09-01  283311.322051  342544.872244  314810.338442\n",
       "81 2025-10-01  321944.348369  406135.313973  367197.242584\n",
       "82 2025-11-01  344932.314683  452839.051620  401441.167460\n",
       "83 2025-12-01  361482.581217  495578.794184  432055.547611"
      ],
      "text/html": [
       "<div>\n",
       "<style scoped>\n",
       "    .dataframe tbody tr th:only-of-type {\n",
       "        vertical-align: middle;\n",
       "    }\n",
       "\n",
       "    .dataframe tbody tr th {\n",
       "        vertical-align: top;\n",
       "    }\n",
       "\n",
       "    .dataframe thead th {\n",
       "        text-align: right;\n",
       "    }\n",
       "</style>\n",
       "<table border=\"1\" class=\"dataframe\">\n",
       "  <thead>\n",
       "    <tr style=\"text-align: right;\">\n",
       "      <th></th>\n",
       "      <th>ds</th>\n",
       "      <th>yhat_lower</th>\n",
       "      <th>yhat_upper</th>\n",
       "      <th>yhat</th>\n",
       "    </tr>\n",
       "  </thead>\n",
       "  <tbody>\n",
       "    <tr>\n",
       "      <th>64</th>\n",
       "      <td>2024-05-01</td>\n",
       "      <td>159498.988741</td>\n",
       "      <td>164887.652512</td>\n",
       "      <td>162331.631212</td>\n",
       "    </tr>\n",
       "    <tr>\n",
       "      <th>65</th>\n",
       "      <td>2024-06-01</td>\n",
       "      <td>164612.700571</td>\n",
       "      <td>170043.810174</td>\n",
       "      <td>167328.862651</td>\n",
       "    </tr>\n",
       "    <tr>\n",
       "      <th>66</th>\n",
       "      <td>2024-07-01</td>\n",
       "      <td>177697.969569</td>\n",
       "      <td>182838.221502</td>\n",
       "      <td>180222.641397</td>\n",
       "    </tr>\n",
       "    <tr>\n",
       "      <th>67</th>\n",
       "      <td>2024-08-01</td>\n",
       "      <td>191559.984356</td>\n",
       "      <td>197075.243387</td>\n",
       "      <td>194470.601696</td>\n",
       "    </tr>\n",
       "    <tr>\n",
       "      <th>68</th>\n",
       "      <td>2024-09-01</td>\n",
       "      <td>190478.368429</td>\n",
       "      <td>195760.545924</td>\n",
       "      <td>193132.217435</td>\n",
       "    </tr>\n",
       "    <tr>\n",
       "      <th>69</th>\n",
       "      <td>2024-10-01</td>\n",
       "      <td>218926.755842</td>\n",
       "      <td>224028.897425</td>\n",
       "      <td>221432.624407</td>\n",
       "    </tr>\n",
       "    <tr>\n",
       "      <th>70</th>\n",
       "      <td>2024-11-01</td>\n",
       "      <td>239369.560562</td>\n",
       "      <td>244730.876901</td>\n",
       "      <td>242015.067938</td>\n",
       "    </tr>\n",
       "    <tr>\n",
       "      <th>71</th>\n",
       "      <td>2024-12-01</td>\n",
       "      <td>267177.938197</td>\n",
       "      <td>272473.582951</td>\n",
       "      <td>269675.579435</td>\n",
       "    </tr>\n",
       "    <tr>\n",
       "      <th>72</th>\n",
       "      <td>2025-01-01</td>\n",
       "      <td>320541.925318</td>\n",
       "      <td>326024.449127</td>\n",
       "      <td>323264.706522</td>\n",
       "    </tr>\n",
       "    <tr>\n",
       "      <th>73</th>\n",
       "      <td>2025-02-01</td>\n",
       "      <td>358552.497508</td>\n",
       "      <td>363840.918745</td>\n",
       "      <td>361236.508630</td>\n",
       "    </tr>\n",
       "    <tr>\n",
       "      <th>74</th>\n",
       "      <td>2025-03-01</td>\n",
       "      <td>284222.474869</td>\n",
       "      <td>289748.872413</td>\n",
       "      <td>286944.483012</td>\n",
       "    </tr>\n",
       "    <tr>\n",
       "      <th>75</th>\n",
       "      <td>2025-04-01</td>\n",
       "      <td>278297.440079</td>\n",
       "      <td>287355.388966</td>\n",
       "      <td>282874.601363</td>\n",
       "    </tr>\n",
       "    <tr>\n",
       "      <th>76</th>\n",
       "      <td>2025-05-01</td>\n",
       "      <td>291915.393520</td>\n",
       "      <td>308518.126047</td>\n",
       "      <td>300426.624968</td>\n",
       "    </tr>\n",
       "    <tr>\n",
       "      <th>77</th>\n",
       "      <td>2025-06-01</td>\n",
       "      <td>275105.254713</td>\n",
       "      <td>299913.120284</td>\n",
       "      <td>288173.357846</td>\n",
       "    </tr>\n",
       "    <tr>\n",
       "      <th>78</th>\n",
       "      <td>2025-07-01</td>\n",
       "      <td>284606.864910</td>\n",
       "      <td>319018.936825</td>\n",
       "      <td>301996.968529</td>\n",
       "    </tr>\n",
       "    <tr>\n",
       "      <th>79</th>\n",
       "      <td>2025-08-01</td>\n",
       "      <td>295569.628244</td>\n",
       "      <td>345446.566327</td>\n",
       "      <td>321152.119239</td>\n",
       "    </tr>\n",
       "    <tr>\n",
       "      <th>80</th>\n",
       "      <td>2025-09-01</td>\n",
       "      <td>283311.322051</td>\n",
       "      <td>342544.872244</td>\n",
       "      <td>314810.338442</td>\n",
       "    </tr>\n",
       "    <tr>\n",
       "      <th>81</th>\n",
       "      <td>2025-10-01</td>\n",
       "      <td>321944.348369</td>\n",
       "      <td>406135.313973</td>\n",
       "      <td>367197.242584</td>\n",
       "    </tr>\n",
       "    <tr>\n",
       "      <th>82</th>\n",
       "      <td>2025-11-01</td>\n",
       "      <td>344932.314683</td>\n",
       "      <td>452839.051620</td>\n",
       "      <td>401441.167460</td>\n",
       "    </tr>\n",
       "    <tr>\n",
       "      <th>83</th>\n",
       "      <td>2025-12-01</td>\n",
       "      <td>361482.581217</td>\n",
       "      <td>495578.794184</td>\n",
       "      <td>432055.547611</td>\n",
       "    </tr>\n",
       "  </tbody>\n",
       "</table>\n",
       "</div>"
      ]
     },
     "execution_count": 197,
     "metadata": {},
     "output_type": "execute_result"
    }
   ],
   "execution_count": 197
  },
  {
   "metadata": {
    "ExecuteTime": {
     "end_time": "2025-02-17T14:19:57.904374Z",
     "start_time": "2025-02-17T14:19:57.899995Z"
    }
   },
   "cell_type": "code",
   "source": "f_month_inc[['ds','y']].tail(20)",
   "id": "acdc5b4526502afa",
   "outputs": [
    {
     "data": {
      "text/plain": [
       "           ds              y\n",
       "54 2023-07-01   97866.225014\n",
       "55 2023-08-01  108198.201012\n",
       "56 2023-09-01  105305.021200\n",
       "57 2023-10-01  116374.418564\n",
       "58 2023-11-01  114450.054212\n",
       "59 2023-12-01  127975.932628\n",
       "60 2024-01-01  131776.072860\n",
       "61 2024-02-01  133371.694540\n",
       "62 2024-03-01  138539.440058\n",
       "63 2024-04-01  138773.281166\n",
       "64 2024-05-01  162152.418640\n",
       "65 2024-06-01  166332.867665\n",
       "66 2024-07-01  178614.857850\n",
       "67 2024-08-01  193824.737033\n",
       "68 2024-09-01  191728.941515\n",
       "69 2024-10-01  220117.200969\n",
       "70 2024-11-01  242176.171203\n",
       "71 2024-12-01  270111.468634\n",
       "72 2025-01-01  324615.727164\n",
       "73 2025-02-01  362678.595063"
      ],
      "text/html": [
       "<div>\n",
       "<style scoped>\n",
       "    .dataframe tbody tr th:only-of-type {\n",
       "        vertical-align: middle;\n",
       "    }\n",
       "\n",
       "    .dataframe tbody tr th {\n",
       "        vertical-align: top;\n",
       "    }\n",
       "\n",
       "    .dataframe thead th {\n",
       "        text-align: right;\n",
       "    }\n",
       "</style>\n",
       "<table border=\"1\" class=\"dataframe\">\n",
       "  <thead>\n",
       "    <tr style=\"text-align: right;\">\n",
       "      <th></th>\n",
       "      <th>ds</th>\n",
       "      <th>y</th>\n",
       "    </tr>\n",
       "  </thead>\n",
       "  <tbody>\n",
       "    <tr>\n",
       "      <th>54</th>\n",
       "      <td>2023-07-01</td>\n",
       "      <td>97866.225014</td>\n",
       "    </tr>\n",
       "    <tr>\n",
       "      <th>55</th>\n",
       "      <td>2023-08-01</td>\n",
       "      <td>108198.201012</td>\n",
       "    </tr>\n",
       "    <tr>\n",
       "      <th>56</th>\n",
       "      <td>2023-09-01</td>\n",
       "      <td>105305.021200</td>\n",
       "    </tr>\n",
       "    <tr>\n",
       "      <th>57</th>\n",
       "      <td>2023-10-01</td>\n",
       "      <td>116374.418564</td>\n",
       "    </tr>\n",
       "    <tr>\n",
       "      <th>58</th>\n",
       "      <td>2023-11-01</td>\n",
       "      <td>114450.054212</td>\n",
       "    </tr>\n",
       "    <tr>\n",
       "      <th>59</th>\n",
       "      <td>2023-12-01</td>\n",
       "      <td>127975.932628</td>\n",
       "    </tr>\n",
       "    <tr>\n",
       "      <th>60</th>\n",
       "      <td>2024-01-01</td>\n",
       "      <td>131776.072860</td>\n",
       "    </tr>\n",
       "    <tr>\n",
       "      <th>61</th>\n",
       "      <td>2024-02-01</td>\n",
       "      <td>133371.694540</td>\n",
       "    </tr>\n",
       "    <tr>\n",
       "      <th>62</th>\n",
       "      <td>2024-03-01</td>\n",
       "      <td>138539.440058</td>\n",
       "    </tr>\n",
       "    <tr>\n",
       "      <th>63</th>\n",
       "      <td>2024-04-01</td>\n",
       "      <td>138773.281166</td>\n",
       "    </tr>\n",
       "    <tr>\n",
       "      <th>64</th>\n",
       "      <td>2024-05-01</td>\n",
       "      <td>162152.418640</td>\n",
       "    </tr>\n",
       "    <tr>\n",
       "      <th>65</th>\n",
       "      <td>2024-06-01</td>\n",
       "      <td>166332.867665</td>\n",
       "    </tr>\n",
       "    <tr>\n",
       "      <th>66</th>\n",
       "      <td>2024-07-01</td>\n",
       "      <td>178614.857850</td>\n",
       "    </tr>\n",
       "    <tr>\n",
       "      <th>67</th>\n",
       "      <td>2024-08-01</td>\n",
       "      <td>193824.737033</td>\n",
       "    </tr>\n",
       "    <tr>\n",
       "      <th>68</th>\n",
       "      <td>2024-09-01</td>\n",
       "      <td>191728.941515</td>\n",
       "    </tr>\n",
       "    <tr>\n",
       "      <th>69</th>\n",
       "      <td>2024-10-01</td>\n",
       "      <td>220117.200969</td>\n",
       "    </tr>\n",
       "    <tr>\n",
       "      <th>70</th>\n",
       "      <td>2024-11-01</td>\n",
       "      <td>242176.171203</td>\n",
       "    </tr>\n",
       "    <tr>\n",
       "      <th>71</th>\n",
       "      <td>2024-12-01</td>\n",
       "      <td>270111.468634</td>\n",
       "    </tr>\n",
       "    <tr>\n",
       "      <th>72</th>\n",
       "      <td>2025-01-01</td>\n",
       "      <td>324615.727164</td>\n",
       "    </tr>\n",
       "    <tr>\n",
       "      <th>73</th>\n",
       "      <td>2025-02-01</td>\n",
       "      <td>362678.595063</td>\n",
       "    </tr>\n",
       "  </tbody>\n",
       "</table>\n",
       "</div>"
      ]
     },
     "execution_count": 195,
     "metadata": {},
     "output_type": "execute_result"
    }
   ],
   "execution_count": 195
  },
  {
   "metadata": {},
   "cell_type": "markdown",
   "source": [
    "$$\n",
    "\\text{Month predictions shows better results}\n",
    "$$"
   ],
   "id": "fc449e6b3334ef60"
  },
  {
   "metadata": {},
   "cell_type": "code",
   "outputs": [],
   "execution_count": null,
   "source": "",
   "id": "b4feb28b10e194a8"
  }
 ],
 "metadata": {
  "kernelspec": {
   "display_name": "Python 3",
   "language": "python",
   "name": "python3"
  },
  "language_info": {
   "codemirror_mode": {
    "name": "ipython",
    "version": 2
   },
   "file_extension": ".py",
   "mimetype": "text/x-python",
   "name": "python",
   "nbconvert_exporter": "python",
   "pygments_lexer": "ipython2",
   "version": "2.7.6"
  }
 },
 "nbformat": 4,
 "nbformat_minor": 5
}
